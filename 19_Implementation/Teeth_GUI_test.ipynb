{
 "cells": [
  {
   "cell_type": "code",
   "execution_count": null,
   "metadata": {},
   "outputs": [],
   "source": [
    "import tkinter\n",
    "from PIL import Image, ImageTk, ImageDraw\n",
    "\n",
    "image_file =\"1.png\"\n",
    "\n",
    "w = tkinter.Tk()\n",
    "\n",
    "img = Image.open(image_file)\n",
    "width, height = img.size\n",
    "ca = tkinter.Canvas(w, width=width, height=height)\n",
    "ca.pack()\n",
    "photoimg = ImageTk.PhotoImage(\"RGB\", img.size)\n",
    "photoimg.paste(img)\n",
    "ca.create_image(width//2,height//2, image=photoimg)\n",
    "tkinter.mainloop()"
   ]
  },
  {
   "cell_type": "code",
   "execution_count": null,
   "metadata": {},
   "outputs": [],
   "source": [
    "from tkinter import *\n",
    "root = Tk()\n",
    "frame = Frame(root, width=200, height=200)\n",
    "def callback(event):\n",
    "    print('當前位置為：',event.x, event.y)\n",
    "frame.bind('<Button-1>',callback)\n",
    "frame.pack()\n",
    "mainloop()"
   ]
  },
  {
   "cell_type": "code",
   "execution_count": null,
   "metadata": {},
   "outputs": [],
   "source": [
    "from tkinter import *\n",
    "import math as m\n",
    "\n",
    "root = Tk()\n",
    "w = Canvas(root,width=200,height=100)\n",
    "w.pack()\n",
    "def paint(event):\n",
    "    x1,y1 = (event.x-1),(event.y-1)\n",
    "    x2,y2 = (event.x+1),(event.y+1)\n",
    "    w.create_oval(x1,y1,x2,y2,fill=\"red\")\n",
    "w.bind(\"<B1 - Motion>\",paint)\n",
    "Label(root,text=\"按住滑鼠拖動\").pack(side=BOTTOM)\n",
    "mainloop()"
   ]
  },
  {
   "cell_type": "code",
   "execution_count": null,
   "metadata": {},
   "outputs": [],
   "source": [
    "from tkinter import *\n",
    "from PIL import Image, ImageTk\n",
    "\n",
    "root = Tk()\n",
    "\n",
    "images = []  # to hold the newly created image\n",
    "\n",
    "def create_rectangle(x1, y1, x2, y2, **kwargs):\n",
    "    if 'alpha' in kwargs:\n",
    "        alpha = int(kwargs.pop('alpha') * 255)\n",
    "        fill = kwargs.pop('fill')\n",
    "        fill = root.winfo_rgb(fill) + (alpha,)\n",
    "        image = Image.new('RGBA', (x2-x1, y2-y1), fill)\n",
    "        images.append(ImageTk.PhotoImage(image))\n",
    "        canvas.create_image(x1, y1, image=images[-1], anchor='nw')\n",
    "    canvas.create_rectangle(x1, y1, x2, y2, **kwargs)\n",
    "\n",
    "canvas = Canvas(width=300, height=200)\n",
    "canvas.pack()\n",
    "\n",
    "create_rectangle(10, 10, 200, 100, fill='blue')\n",
    "create_rectangle(50, 50, 250, 150, fill='green', alpha=.5)\n",
    "create_rectangle(80, 80, 150, 120, fill='#800000', alpha=.8)\n",
    "\n",
    "root.mainloop()"
   ]
  },
  {
   "cell_type": "code",
   "execution_count": 4,
   "metadata": {},
   "outputs": [
    {
     "name": "stdout",
     "output_type": "stream",
     "text": [
      "左鍵當前位置為： 468 210\n",
      "右鍵當前位置為： 502 254\n"
     ]
    }
   ],
   "source": [
    "from tkinter import Canvas, Tk, mainloop\n",
    "from PIL import Image, ImageTk, ImageDraw\n",
    "\n",
    "root = Tk()\n",
    "img = Image.open(\"1.png\")\n",
    "width, height = img.size\n",
    "\n",
    "ca = Canvas(root, width=width, height=height)\n",
    "ca.pack()\n",
    "photoimg = ImageTk.PhotoImage(\"RGB\", img.size)\n",
    "photoimg.paste(img)\n",
    "ca.create_image(width//2,height//2, image=photoimg)\n",
    "\n",
    "loc = []\n",
    "\n",
    "def callback1(event):\n",
    "    print('左鍵當前位置為：',event.x, event.y)\n",
    "    x1,y1 = (event.x-2),(event.y-2)\n",
    "    x2,y2 = (event.x+2),(event.y+2)\n",
    "    ca.create_rectangle(x1,y1,x2,y2,fill=\"red\")\n",
    "    loc.append((event.x, event.y))\n",
    "    \n",
    "def callback2(event):\n",
    "    print('右鍵當前位置為：',event.x, event.y)\n",
    "    x1,y1 = (event.x-2),(event.y-2)\n",
    "    x2,y2 = (event.x+2),(event.y+2)\n",
    "    ca.create_rectangle(x1,y1,x2,y2,fill=\"red\")\n",
    "    ca.create_rectangle(loc[0][0],loc[0][1], event.x,event.y, fill=\"yellow\")\n",
    "    loc.clear()\n",
    "    \n",
    "ca.bind('<Button-1>',callback1)\n",
    "ca.bind('<Button-3>',callback2)\n",
    "ca.pack()\n",
    "mainloop()"
   ]
  },
  {
   "cell_type": "code",
   "execution_count": 6,
   "metadata": {},
   "outputs": [
    {
     "name": "stdout",
     "output_type": "stream",
     "text": [
      "左鍵當前位置為： 232 224\n",
      "右鍵當前位置為： 309 290\n",
      "左鍵當前位置為： 584 67\n",
      "右鍵當前位置為： 584 67\n",
      "左鍵當前位置為： 580 69\n",
      "右鍵當前位置為： 624 128\n"
     ]
    }
   ],
   "source": [
    "from tkinter import Canvas, Tk, mainloop\n",
    "from PIL import Image, ImageTk, ImageDraw\n",
    "\n",
    "root = Tk()\n",
    "img = Image.open(\"1.png\")\n",
    "width, height = img.size\n",
    "\n",
    "ca = Canvas(root, width=width, height=height)\n",
    "ca.pack()\n",
    "photoimg = ImageTk.PhotoImage(\"RGB\", img.size)\n",
    "photoimg.paste(img)\n",
    "ca.create_image(width//2,height//2, image=photoimg)\n",
    "\n",
    "loc = []\n",
    "images = []\n",
    "\n",
    "def create_rectangle(x1, y1, x2, y2, **kwargs):\n",
    "    if 'alpha' in kwargs:\n",
    "        alpha = int(kwargs.pop('alpha') * 255)\n",
    "        fill = kwargs.pop('fill')\n",
    "        fill = root.winfo_rgb(fill) + (alpha,)\n",
    "        image = Image.new('RGBA', (x2-x1, y2-y1), fill)\n",
    "        images.append(ImageTk.PhotoImage(image))\n",
    "        ca.create_image(x1, y1, image=images[-1], anchor='nw')\n",
    "    ca.create_rectangle(x1, y1, x2, y2, **kwargs)\n",
    "\n",
    "def callback1(event):\n",
    "    print('左鍵當前位置為：',event.x, event.y)\n",
    "    x1,y1 = (event.x-2),(event.y-2)\n",
    "    x2,y2 = (event.x+2),(event.y+2)\n",
    "    create_rectangle(x1,y1,x2,y2,fill=\"red\")\n",
    "    loc.append((event.x, event.y))\n",
    "    \n",
    "def callback2(event):\n",
    "    print('右鍵當前位置為：',event.x, event.y)\n",
    "    x1,y1 = (event.x-2),(event.y-2)\n",
    "    x2,y2 = (event.x+2),(event.y+2)\n",
    "    create_rectangle(x1,y1,x2,y2,fill=\"red\")\n",
    "    create_rectangle(loc[0][0],loc[0][1], event.x, event.y, fill=\"yellow\", alpha=.5)\n",
    "    loc.clear()\n",
    "    \n",
    "ca.bind('<Button-1>',callback1)\n",
    "ca.bind('<Button-3>',callback2)\n",
    "ca.pack()\n",
    "mainloop()"
   ]
  },
  {
   "cell_type": "code",
   "execution_count": null,
   "metadata": {},
   "outputs": [],
   "source": []
  }
 ],
 "metadata": {
  "kernelspec": {
   "display_name": "Python 3",
   "language": "python",
   "name": "python3"
  },
  "language_info": {
   "codemirror_mode": {
    "name": "ipython",
    "version": 3
   },
   "file_extension": ".py",
   "mimetype": "text/x-python",
   "name": "python",
   "nbconvert_exporter": "python",
   "pygments_lexer": "ipython3",
   "version": "3.6.10"
  }
 },
 "nbformat": 4,
 "nbformat_minor": 4
}
