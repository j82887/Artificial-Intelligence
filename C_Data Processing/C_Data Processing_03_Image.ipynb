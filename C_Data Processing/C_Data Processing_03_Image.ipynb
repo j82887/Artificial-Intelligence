{
 "cells": [
  {
   "cell_type": "code",
   "execution_count": null,
   "metadata": {},
   "outputs": [],
   "source": [
    "import cv2\n",
    "import matplotlib\n",
    "import PIL\n",
    "import scipy\n",
    "import matplotlib.image as mpimg\n",
    "import matplotlib.pyplot as plt\n",
    "import tensorflow as tf\n",
    "\n",
    "from PIL import Image\n",
    "from scipy import misc\n",
    "\n",
    "print(\"opencv:\", cv2.__version__)\n",
    "print(\"matplotlib:\",matplotlib.__version__)\n",
    "print(\"Scipy:\",scipy.__version__)\n",
    "print(\"PIL:\",PIL.__version__)\n",
    "print(\"Tensorflow\",tf.__version__)"
   ]
  },
  {
   "cell_type": "markdown",
   "metadata": {},
   "source": [
    "## 01. OpenCV"
   ]
  },
  {
   "cell_type": "code",
   "execution_count": null,
   "metadata": {},
   "outputs": [],
   "source": [
    "# 讀取影像\n",
    "img = cv2.imread(\"img.jpeg\")\n",
    "print(\"opencv:\", type(img))\n",
    "\n",
    "# 儲存影像\n",
    "cv2.imwrite('img.jpeg', img)\n",
    "\n",
    "# 開啟視窗，顯示影像\n",
    "cv2.imshow(\"Open img\", img)\n",
    "cv2.waitKey(0) \n",
    "cv2.destroyAllWindows()"
   ]
  },
  {
   "cell_type": "markdown",
   "metadata": {},
   "source": [
    "## 02. Matplotlib"
   ]
  },
  {
   "cell_type": "code",
   "execution_count": null,
   "metadata": {},
   "outputs": [],
   "source": [
    "# 讀取影像\n",
    "img = mpimg.imread('img.jpeg')\n",
    "print(\"matplotlib:\", type(img))\n",
    "\n",
    "# 儲存影像\n",
    "plt.imsave('img.jpeg',img)\n",
    "\n",
    "# 顯示影像\n",
    "plt.imshow(img)\n",
    "plt.show()\n",
    "\n",
    "plt.matshow(img)\n",
    "plt.show()"
   ]
  },
  {
   "cell_type": "markdown",
   "metadata": {},
   "source": [
    "## 03. Scipy"
   ]
  },
  {
   "cell_type": "code",
   "execution_count": null,
   "metadata": {},
   "outputs": [],
   "source": [
    "# 讀取影像\n",
    "img = misc.imread('img.jpeg')\n",
    "print(\"Scipy:\", type(img))\n",
    "\n",
    "# 儲存影像\n",
    "misc.imsave(\"img.jpeg\", img)\n",
    "\n",
    "# 開啟影像(不建議使用)\n",
    "# misc.imshow(img)"
   ]
  },
  {
   "cell_type": "markdown",
   "metadata": {},
   "source": [
    "## 04. PIL"
   ]
  },
  {
   "cell_type": "code",
   "execution_count": null,
   "metadata": {},
   "outputs": [],
   "source": [
    "# 讀取影像\n",
    "img = Image.open('img.jpeg')\n",
    "print(\"PIL:\", type(img))\n",
    "\n",
    "# 儲存影像\n",
    "img.save(\"img.jpeg\")\n",
    "\n",
    "# 開啟影像\n",
    "img.show()"
   ]
  },
  {
   "cell_type": "markdown",
   "metadata": {},
   "source": [
    "## 05. Tensorflow and Keras"
   ]
  },
  {
   "cell_type": "code",
   "execution_count": null,
   "metadata": {},
   "outputs": [],
   "source": [
    "# 讀取影像\n",
    "img = tf.keras.preprocessing.image.load_img(\"img.jpeg\")\n",
    "print(\"Tensorflow:\", type(img))\n",
    "\n",
    "# 開啟影像\n",
    "img.show()\n",
    "\n",
    "# 轉換為陣列\n",
    "img = tf.keras.preprocessing.image.img_to_array(img)\n",
    "print(\"轉換後的型別:\", type(img))\n",
    "\n",
    "# 儲存影像\n",
    "tf.keras.preprocessing.image.save_img(\"img2.jpeg\", img)"
   ]
  },
  {
   "cell_type": "code",
   "execution_count": null,
   "metadata": {},
   "outputs": [],
   "source": []
  }
 ],
 "metadata": {
  "kernelspec": {
   "display_name": "Python 3",
   "language": "python",
   "name": "python3"
  },
  "language_info": {
   "codemirror_mode": {
    "name": "ipython",
    "version": 3
   },
   "file_extension": ".py",
   "mimetype": "text/x-python",
   "name": "python",
   "nbconvert_exporter": "python",
   "pygments_lexer": "ipython3",
   "version": "3.6.10"
  }
 },
 "nbformat": 4,
 "nbformat_minor": 4
}
