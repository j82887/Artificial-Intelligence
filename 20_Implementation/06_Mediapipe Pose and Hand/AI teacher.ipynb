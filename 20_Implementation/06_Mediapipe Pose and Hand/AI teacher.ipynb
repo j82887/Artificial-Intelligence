{
 "cells": [
  {
   "cell_type": "code",
   "execution_count": null,
   "metadata": {},
   "outputs": [],
   "source": [
    "import mediapipe as mp\n",
    "import cv2\n",
    "import time\n",
    "import numpy as np"
   ]
  },
  {
   "cell_type": "code",
   "execution_count": null,
   "metadata": {},
   "outputs": [],
   "source": [
    "mpDraw = mp.solutions.drawing_utils\n",
    "mpHands = mp.solutions.hands\n",
    "hands = mpHands.Hands(static_image_mode=False,  # 偵測為靜態畫面，若為動態畫面（影片或攝影機）則設為真\n",
    "               max_num_hands=2,                 # 最多偵測的手數量\n",
    "               min_detection_confidence=0.9,    # 最小偵測置信度\n",
    "               min_tracking_confidence=0.5)     # 最小追蹤置信度\n",
    "\n",
    "mp_drawing = mp.solutions.drawing_utils\n",
    "mp_pose = mp.solutions.pose\n",
    "pose = mp_pose.Pose(min_detection_confidence=0.5, # 最小偵測置信度\n",
    "                    min_tracking_confidence=0.5)  # 最小追蹤置信度"
   ]
  },
  {
   "cell_type": "markdown",
   "metadata": {},
   "source": [
    "## 身體骨架點"
   ]
  },
  {
   "cell_type": "markdown",
   "metadata": {},
   "source": [
    "![](https://google.github.io/mediapipe/images/mobile/pose_tracking_full_body_landmarks.png)"
   ]
  },
  {
   "cell_type": "markdown",
   "metadata": {},
   "source": [
    "## 手的骨架點"
   ]
  },
  {
   "cell_type": "markdown",
   "metadata": {},
   "source": [
    "![](https://google.github.io/mediapipe/images/mobile/hand_landmarks.png)"
   ]
  },
  {
   "cell_type": "code",
   "execution_count": null,
   "metadata": {},
   "outputs": [],
   "source": [
    "pTime = cTime = 0               # 計算FPS的初始參數\n",
    "\n",
    "#cap = cv2.VideoCapture(\"MVI_4980.MP4\")\n",
    "cap = cv2.VideoCapture(0)\n",
    "\n",
    "while cap.isOpened():\n",
    "    ret, frame = cap.read()                         # 讀取攝影機的有無訊息與當前畫面\n",
    "    if not ret: break                               # 攝影機無畫面時關閉\n",
    "    \n",
    "    (imgHeight, imgWidth, _) = frame.shape          # 影像形狀的寬高(於後骨架需要正規化回來計算所需)\n",
    "    imgRGB = cv2.cvtColor(frame, cv2.COLOR_BGR2RGB) # 彩色影像GBR通道轉換為RGB通道\n",
    "    \n",
    "    # 手骨架\n",
    "    result = hands.process(imgRGB)                  # Mediapipe手骨架預測結果\n",
    "    if result.multi_hand_landmarks:\n",
    "        for handLms in result.multi_hand_landmarks:\n",
    "            mpDraw.draw_landmarks(frame, handLms, mpHands.HAND_CONNECTIONS)\n",
    "            for i, lm in enumerate(handLms.landmark):\n",
    "                \n",
    "                # 手骨架點正規化還原\n",
    "                xPos = int(lm.x * imgWidth)\n",
    "                yPos = int(lm.y * imgHeight)\n",
    "                \n",
    "                # 影像上放置文字\n",
    "                cv2.putText(frame, str(i), (xPos-25, yPos+5), cv2.FONT_HERSHEY_SIMPLEX, 0.4, (0,0,255), 2)\n",
    "                \n",
    "                # 骨架點為8時：\n",
    "                #if i==8:\n",
    "                #    cv2.circle(frame, (xPos, yPos), 8, (255, 0, 0), cv2.FILLED) \n",
    "    \n",
    "    # 身體骨架\n",
    "    result = pose.process(imgRGB)                   # Mediapipe身體骨架預測結果\n",
    "    if result.pose_landmarks:\n",
    "        for i, lm in enumerate(result.pose_landmarks.landmark):\n",
    "            mp_drawing.draw_landmarks(frame, result.pose_landmarks, mp_pose.POSE_CONNECTIONS)\n",
    "        \n",
    "            # 身體骨架點正規化還原\n",
    "            xPos = int(lm.x * imgWidth)\n",
    "            yPos = int(lm.y * imgHeight)\n",
    "            \n",
    "            # 影像上放置文字\n",
    "            cv2.putText(frame, str(i), (xPos-25, yPos+5), cv2.FONT_HERSHEY_SIMPLEX, 0.4, (0,0,255), 2)\n",
    "                \n",
    "\n",
    "    # 計算FPS\n",
    "    cTime = time.time()\n",
    "    fps = 1/(cTime-pTime)\n",
    "    pTime = cTime\n",
    "    cv2.putText(frame, \"FPS:%s\" %(int(fps)), (30, 50), cv2.FONT_HERSHEY_SIMPLEX, 1, (0, 0, 255), 2)\n",
    "    \n",
    "    # 呈現影像\n",
    "    cv2.imshow(\"Hand Tracking\", frame)\n",
    "    \n",
    "    # 鍵盤按下q則關閉迴圈\n",
    "    if cv2.waitKey(1) & 0xFF == ord('q'):\n",
    "        break\n",
    "\n",
    "# 關閉視窗與銷毀\n",
    "cap.release()\n",
    "cv2.destroyAllWindows()"
   ]
  },
  {
   "cell_type": "code",
   "execution_count": null,
   "metadata": {},
   "outputs": [],
   "source": []
  }
 ],
 "metadata": {
  "kernelspec": {
   "display_name": "Python 3",
   "language": "python",
   "name": "python3"
  },
  "language_info": {
   "codemirror_mode": {
    "name": "ipython",
    "version": 3
   },
   "file_extension": ".py",
   "mimetype": "text/x-python",
   "name": "python",
   "nbconvert_exporter": "python",
   "pygments_lexer": "ipython3",
   "version": "3.6.10"
  }
 },
 "nbformat": 4,
 "nbformat_minor": 4
}
