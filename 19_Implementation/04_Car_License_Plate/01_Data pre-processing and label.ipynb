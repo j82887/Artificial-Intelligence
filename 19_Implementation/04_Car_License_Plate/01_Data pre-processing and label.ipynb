{
 "cells": [
  {
   "cell_type": "markdown",
   "metadata": {},
   "source": [
    "# 車牌辨識系統：\n",
    "## 一、資料前處理與標註標籤\n",
    "\n",
    "<img src=\"https://raw.githubusercontent.com/j82887/Artificial-Intelligence/master/00_Image/19_Implementation%20-%2004_Car_License_Plate.png\" align=\"left\" width=\"200\">"
   ]
  },
  {
   "cell_type": "markdown",
   "metadata": {},
   "source": [
    "## 01. 處理正樣本影像"
   ]
  },
  {
   "cell_type": "code",
   "execution_count": 90,
   "metadata": {},
   "outputs": [],
   "source": [
    "import os, shutil, glob, PIL\n",
    "from time import sleep\n",
    "from PIL import Image   "
   ]
  },
  {
   "cell_type": "code",
   "execution_count": null,
   "metadata": {},
   "outputs": [],
   "source": [
    "# 清空資料夾\n",
    "def emptydir(dirname):\n",
    "    if os.path.isdir(dirname): # 如果該資料夾是存在為True,反之為False\n",
    "        shutil.rmtree(dirname) # 依序刪除該資料夾中的檔案\n",
    "        sleep(2)\n",
    "    os.mkdir(dirname)"
   ]
  },
  {
   "cell_type": "code",
   "execution_count": null,
   "metadata": {},
   "outputs": [],
   "source": [
    "# src為原影像資料夾, dst為預處理的資料夾\n",
    "def dirResize(src, dst):\n",
    "    myfiles = glob.glob(src+'/*.jpg') # 讀取str資料夾中所有副檔名為jpg的檔案名稱\n",
    "    emptydir(dst)\n",
    "    for i, f in enumerate(myfiles):\n",
    "        img = Image.open(f)\n",
    "        img_new = img.resize((300,225),PIL.Image.ANTIALIAS) # ANTIALIAS為欠取樣，縮小影像為(300,225)\n",
    "        img_new.save(dst+'/'+'resize'+str('{:0>3d}').format(i+1)+'.bmp') # 將新影像以bmp儲存至dst資料夾"
   ]
  },
  {
   "cell_type": "code",
   "execution_count": null,
   "metadata": {},
   "outputs": [],
   "source": [
    "dirResize('carPlate_sr', 'carPlate')"
   ]
  },
  {
   "cell_type": "markdown",
   "metadata": {},
   "source": [
    "## 02. 處理負樣本影像"
   ]
  },
  {
   "cell_type": "code",
   "execution_count": null,
   "metadata": {},
   "outputs": [],
   "source": [
    "myfiles = glob.glob(\"carNegative_sr/*.jpg\")\n",
    "emptydir('carNegative')\n",
    "\n",
    "for i, f in enumerate(myfiles):\n",
    "    img = Image.open(f)\n",
    "    img_new = img.resize((500, 375), PIL.Image.ANTIALIAS)\n",
    "    img_new = img_new.convert('L')  #轉換為灰階\n",
    "    img_new.save('carNegative/'+'negGray'+str('{:0>3d}').format(i+1)+'.bmp')"
   ]
  },
  {
   "cell_type": "markdown",
   "metadata": {},
   "source": [
    "## 03. 建立負樣本的影像標註檔"
   ]
  },
  {
   "cell_type": "code",
   "execution_count": null,
   "metadata": {},
   "outputs": [],
   "source": [
    "fp = open('Haar-Training-master/Haar-Training-master/training/negative/bg.txt','w')\n",
    "files = glob.glob('Haar-Training-master/Haar-Training-master/training/negative/*.bmp')\n",
    "text = \"\"\n",
    "for file in files:\n",
    "    basename = os.path.basename(file)\n",
    "    filename = 'negative/'+ basename\n",
    "    text += filename + \"\\n\"\n",
    "    print(text)\n",
    "    \n",
    "fp.write(text)\n",
    "fp.close()"
   ]
  },
  {
   "cell_type": "markdown",
   "metadata": {},
   "source": [
    "## 04. 更正標註檔內正樣本的新舊車牌調整寬高比例"
   ]
  },
  {
   "cell_type": "code",
   "execution_count": null,
   "metadata": {},
   "outputs": [],
   "source": [
    "fp = open('Haar-Training-master/Haar-Training-master/training/positive/info.txt', 'r')\n",
    "lines = fp.readlines()  #讀取所有文字\n",
    "rettext = ''\n",
    "\n",
    "for line in lines:\n",
    "    data = line.split(' ')\n",
    "    rettext += data[0] + ' ' + data[1] + ' '\n",
    "\n",
    "    for i in range(int(n)):\n",
    "        x = float(data[2+i*4])\n",
    "        y = float(data[3+i*4])\n",
    "        w = float(data[4+i*4])\n",
    "        h = float(data[5+i*4])\n",
    "        if (w/h) < 3.8:  #如果寬長比小於3.8\n",
    "            newW = h * 3.8  #寬=高*3.8\n",
    "            x -= int((newW - w) / 2)  #計算新X位置\n",
    "            if x<=0:  \n",
    "                x=0\n",
    "            w = int(newW)\n",
    "        rettext = rettext+str(int(x))+' '+data[3+i*4]+' '+str(int(w))+' '+data[5+i*4]\n",
    "\n",
    "fp.close()\n",
    "\n",
    "fp = open('Haar-Training-master/Haar-Training-master/training/positive/info.txt', 'w')\n",
    "fp.write(rettext) \n",
    "fp.close()   "
   ]
  },
  {
   "cell_type": "markdown",
   "metadata": {},
   "source": [
    "## 05. 影像增量"
   ]
  },
  {
   "cell_type": "code",
   "execution_count": null,
   "metadata": {},
   "outputs": [],
   "source": [
    "path = 'Haar-Training-master/Haar-Training-master/training/positive/'\n",
    "fp = open(path + 'info.txt', 'r')\n",
    "lines = fp.readlines()  #讀取所有文字\n",
    "count =  len(glob.glob(\"carPlate/*.bmp\")) #圖片數，產生的圖片編號由此繼續\n",
    "\n",
    "rettext = ''  \n",
    "for line in lines:\n",
    "    data = line.split(' ')\n",
    "    img = Image.open(path + data[0]) \n",
    "    \n",
    "    x = int(data[2])  \n",
    "    y = int(data[3]) \n",
    "    w = int(data[4])  \n",
    "    h = int(data[5]) \n",
    "    \n",
    "    reduceW = 30  #減少的的寬度\n",
    "    reduceH = int(reduceW*0.75)  #減少的的高度\n",
    "    multi = float(300/(300-reduceW))  #原圖與新圖比例\n",
    "    neww = int(w*multi)  #新圖的寬\n",
    "    newh = int(h*multi)  #新圖的高\n",
    "    \n",
    "    #移除左上角圖\n",
    "    if (x-reduceW)>5 and (y-reduceH)>5:  #左上角有空間才移除左上角\n",
    "        count += 1  #編號加1,此數值會做為檔名用\n",
    "        newimg = img.crop((reduceW, reduceH, 300, 225))  #擷取圖形\n",
    "        newimg = newimg.resize((300, 225), Image.ANTIALIAS)  #放大圖形\n",
    "        newimg.save(path + 'rawdata/bmpraw{:0>3d}.bmp'.format(count), 'bmp')  #存檔\n",
    "        newx = int((x-reduceW)*multi-reduceW*(multi-1)/2)  #新圖X坐標\n",
    "        newy = int((y-reduceH)*multi-reduceH*(multi-1)/2)  #新圖Y坐標            \n",
    "        rettext = rettext+'rawdata/bmpraw{:0>3d}.bmp'.format(count)+' '+'1'+' '+str(newx)+' '+str(newy)+' '+str(neww)+' '+str(newh)+'\\n'  #記錄新圖資料\n",
    "    \n",
    "    #移除右上角圖\n",
    "    if (x+w)<(300-reduceW-5) and y>(reduceW+5):\n",
    "        count += 1\n",
    "        newimg = img.crop((0, reduceH, (300-reduceW), 225))\n",
    "        newimg = newimg.resize((300, 225), Image.ANTIALIAS)\n",
    "        newimg.save(path + 'rawdata/bmpraw{:0>3d}.bmp'.format(count), 'bmp')\n",
    "        newx = int(x*multi)\n",
    "        newy = int((y-reduceH)*multi)\n",
    "        rettext = rettext+'rawdata/bmpraw{:0>3d}.bmp'.format(count)+' '+'1'+' '+str(newx)+' '+str(newy)+' '+str(neww)+' '+str(newh)+'\\n'\n",
    "    \n",
    "    #移除左下角圖\n",
    "    if (x-reduceW)>5 and (y+h)<(225-reduceH-5):\n",
    "        count += 1\n",
    "        newimg = img.crop((reduceW, 0, 300, 225-reduceH))\n",
    "        newimg = newimg.resize((300, 225), Image.ANTIALIAS)\n",
    "        newimg.save(path + 'rawdata/bmpraw{:0>3d}.bmp'.format(count), 'bmp')\n",
    "        newx = int((x-reduceW)*multi)\n",
    "        newy = int(y*multi)\n",
    "        rettext = rettext+'rawdata/bmpraw{:0>3d}.bmp'.format(count)+' '+'1'+' '+str(newx)+' '+str(newy)+' '+str(neww)+' '+str(newh)+'\\n'\n",
    "    \n",
    "    #移除右下角圖\n",
    "    if (x+w)<(300-reduceW-5) and (y+h)<(225-reduceH-5):\n",
    "        count += 1\n",
    "        newimg = img.crop((0, 0, (300-reduceW), 225-reduceH))\n",
    "        newimg = newimg.resize((300, 225), Image.ANTIALIAS)\n",
    "        newimg.save(path + 'rawdata/bmpraw{:0>3d}.bmp'.format(count), 'bmp')\n",
    "        newx = int(x*multi)\n",
    "        newy = int(y*multi)\n",
    "        rettext = rettext+'rawdata/bmpraw{:0>3d}.bmp'.format(count)+' '+'1'+' '+str(newx)+' '+str(newy)+' '+str(neww)+' '+str(newh)+'\\n'\n",
    "\n",
    "fp.close()\n",
    "    \n",
    "fpmake = open(path + 'Info.txt', 'a')  #以新增資料方式開啟檔案\n",
    "fpmake.write(rettext)  #寫入檔案\n",
    "fpmake.close()"
   ]
  }
 ],
 "metadata": {
  "kernelspec": {
   "display_name": "Python 3",
   "language": "python",
   "name": "python3"
  },
  "language_info": {
   "codemirror_mode": {
    "name": "ipython",
    "version": 3
   },
   "file_extension": ".py",
   "mimetype": "text/x-python",
   "name": "python",
   "nbconvert_exporter": "python",
   "pygments_lexer": "ipython3",
   "version": "3.6.10"
  }
 },
 "nbformat": 4,
 "nbformat_minor": 4
}
