{
 "cells": [
  {
   "cell_type": "markdown",
   "metadata": {},
   "source": [
    "## 01. 純文字文件 \n",
    "* **常見基本步驟，開檔、讀/寫檔、關檔**\n",
    "* 1. 開檔：`file_obj = open('file', mode='mode')`\n",
    "* 2. 開檔的模式(mode)有四種：\n",
    "    - r 開啟檔案只供讀取，為預設值\n",
    "    - w 開啟檔案供寫入，如果原先檔案有內容，其內容將被覆蓋\n",
    "    - a 開啟檔案供寫入，如果原先檔案有內容，新寫入的資料將附加在後面\n",
    "    - x 開啟一個新的檔案供寫入，如果所開啟的檔案已經存在則會產生錯誤\n",
    "\n",
    "* 3. 讀檔方式有兩種：\n",
    "    - `file_obj.readlines()` 一次讀一行 \n",
    "    - `file_obj.read()` 一次讀全部\n",
    "    \n",
    "* 4. 寫檔方式有兩種：\n",
    "    - `file_obj.write(str)` \n",
    "    - `print(str, file=file_obj)`"
   ]
  },
  {
   "cell_type": "code",
   "execution_count": 44,
   "metadata": {},
   "outputs": [],
   "source": [
    "# 讀取文件並模式可以寫入\n",
    "f = open('test.txt', 'w')\n",
    "\n",
    "# 寫入第一行\n",
    "f.write('第1行')\n",
    "\n",
    "# 斜線n所以換第二行寫入\n",
    "f.write('\\n第2行')\n",
    "\n",
    "# 關閉文件\n",
    "f.close()"
   ]
  },
  {
   "cell_type": "code",
   "execution_count": 45,
   "metadata": {},
   "outputs": [
    {
     "name": "stdout",
     "output_type": "stream",
     "text": [
      "第1行\n",
      "第2行\n"
     ]
    }
   ],
   "source": [
    "# 讀取文件\n",
    "f = open('test.txt', 'r')\n",
    "\n",
    "# 打印所有內容\n",
    "print(f.read())\n",
    "\n",
    "# 關閉文件\n",
    "f.close()"
   ]
  },
  {
   "cell_type": "code",
   "execution_count": 48,
   "metadata": {},
   "outputs": [],
   "source": [
    "# with as 寫法，可以自動關閉文件\n",
    "with open('test.txt', 'w') as f:\n",
    "    for i in range(5):\n",
    "        f.write('第%d行\\n' %(i+1))"
   ]
  },
  {
   "cell_type": "code",
   "execution_count": 49,
   "metadata": {},
   "outputs": [
    {
     "name": "stdout",
     "output_type": "stream",
     "text": [
      "第1行\n",
      "第2行\n",
      "第3行\n",
      "第4行\n",
      "第5行\n",
      "\n"
     ]
    }
   ],
   "source": [
    "with open('test.txt', 'r') as f:\n",
    "    print(f.read())"
   ]
  },
  {
   "cell_type": "code",
   "execution_count": 50,
   "metadata": {},
   "outputs": [],
   "source": [
    "with open('test.txt', 'w') as f:\n",
    "    print(\"使用print儲存文字\", file = f)"
   ]
  },
  {
   "cell_type": "code",
   "execution_count": 51,
   "metadata": {},
   "outputs": [
    {
     "name": "stdout",
     "output_type": "stream",
     "text": [
      "使用print儲存文字\n",
      "\n"
     ]
    }
   ],
   "source": [
    "with open('test.txt', 'r') as f:\n",
    "    print(f.read())"
   ]
  },
  {
   "cell_type": "markdown",
   "metadata": {},
   "source": [
    "## Homework 01\n",
    "* 打印聖誕樹，使用for迴圈，將 「底十個 * 字號，依序減二，最高為兩個 * 字號且皆置中」，儲存至純文字文件"
   ]
  },
  {
   "cell_type": "code",
   "execution_count": 90,
   "metadata": {},
   "outputs": [],
   "source": [
    "with open('Homework 01.txt', 'w') as f:\n",
    "    for i in range(6):\n",
    "        print(\" \"*(9-i), file = f, end=\"\")\n",
    "        print(\"*\"*i*2, file = f)"
   ]
  },
  {
   "cell_type": "code",
   "execution_count": 91,
   "metadata": {},
   "outputs": [
    {
     "name": "stdout",
     "output_type": "stream",
     "text": [
      "         \n",
      "        **\n",
      "       ****\n",
      "      ******\n",
      "     ********\n",
      "    **********\n",
      "\n"
     ]
    }
   ],
   "source": [
    "with open('Homework 01.txt', 'r') as f:\n",
    "    print(f.read())"
   ]
  },
  {
   "cell_type": "markdown",
   "metadata": {},
   "source": [
    "## 02. Excel試算表 "
   ]
  },
  {
   "cell_type": "code",
   "execution_count": null,
   "metadata": {},
   "outputs": [],
   "source": []
  }
 ],
 "metadata": {
  "kernelspec": {
   "display_name": "Python 3",
   "language": "python",
   "name": "python3"
  },
  "language_info": {
   "codemirror_mode": {
    "name": "ipython",
    "version": 3
   },
   "file_extension": ".py",
   "mimetype": "text/x-python",
   "name": "python",
   "nbconvert_exporter": "python",
   "pygments_lexer": "ipython3",
   "version": "3.6.10"
  }
 },
 "nbformat": 4,
 "nbformat_minor": 4
}
