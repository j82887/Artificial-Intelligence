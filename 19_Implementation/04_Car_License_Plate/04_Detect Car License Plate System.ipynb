{
 "cells": [
  {
   "cell_type": "markdown",
   "metadata": {},
   "source": [
    "# 車牌辨識系統\n",
    "\n",
    "<img src=\"https://raw.githubusercontent.com/j82887/Artificial-Intelligence/master/00_Image/19_Implementation%20-%2004_Car_License_Plate.png\" align=\"left\" width=\"200\">"
   ]
  },
  {
   "cell_type": "code",
   "execution_count": null,
   "metadata": {},
   "outputs": [],
   "source": [
    "import cv2\n",
    "import matplotlib.pyplot as plt\n",
    "img_path = 'carPlate/resize001.bmp'\n",
    "\n",
    "img = cv2.imread(img_path)\n",
    "detector = cv2.CascadeClassifier(\"License_Plate_Haar_cascade.xml\")\n",
    "signs = detector.detectMultiScale(img, minSize = (76, 20), scaleFactor = 1.1, minNeighbors=10)\n",
    "\n",
    "if len(signs) > 0:\n",
    "    for (sx, sy, sw, sh) in signs:\n",
    "        crop_img = img[sy:sy+sh, sx:sx+sw]\n",
    "        gray_img = cv2.cvtColor(crop_img, cv2.COLOR_BGR2GRAY)\n",
    "        _, binary_img = cv2.threshold(gray_img, 127, 255, cv2.THRESH_BINARY_INV)\n",
    "                              \n",
    "        save_predict_name = []\n",
    "        contours, hierarchy = cv2.findContours(binary_img, cv2.RETR_EXTERNAL, cv2.CHAIN_APPROX_SIMPLE)\n",
    "        for i in range(len(contours)):\n",
    "            (x, y, w, h) = cv2.boundingRect(contours[i])\n",
    "            if w>5 and 39>h>29:\n",
    "                number = binary_img[y:y+h, x:x+w]\n",
    "                pad_number = cv2.copyMakeBorder(number, 13, 13, 10, 10, borderType=cv2.BORDER_CONSTANT)\n",
    "                re_number = cv2.resize(pad_number, (28, 28), interpolation=cv2.INTER_CUBIC)\n",
    "        \n",
    "                intput_number = np.expand_dims(np.expand_dims(re_number.astype('float32')/255,-1),0)\n",
    "                predict = cnn.predict(intput_number)\n",
    "                predict_name = label_name[np.argmax(predict)]\n",
    "                save_predict_name.append(predict_name)\n",
    "        \n",
    "                #plt.imshow(re_number, cmap='gray')\n",
    "                #plt.show()\n",
    "\n",
    "        # 顛倒list\n",
    "        name = save_predict_name[::-1]\n",
    "        print(\"\".join(name))\n",
    "else:\n",
    "    print('沒有辨識到車牌!')"
   ]
  }
 ],
 "metadata": {
  "kernelspec": {
   "display_name": "Python 3",
   "language": "python",
   "name": "python3"
  },
  "language_info": {
   "codemirror_mode": {
    "name": "ipython",
    "version": 3
   },
   "file_extension": ".py",
   "mimetype": "text/x-python",
   "name": "python",
   "nbconvert_exporter": "python",
   "pygments_lexer": "ipython3",
   "version": "3.6.10"
  }
 },
 "nbformat": 4,
 "nbformat_minor": 4
}
