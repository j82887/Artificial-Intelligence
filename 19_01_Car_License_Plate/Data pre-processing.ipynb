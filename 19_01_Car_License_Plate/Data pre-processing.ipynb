{
 "cells": [
  {
   "cell_type": "markdown",
   "metadata": {},
   "source": [
    "# 一、資料前處理"
   ]
  },
  {
   "cell_type": "markdown",
   "metadata": {},
   "source": [
    "## 01. 處理正樣本影像"
   ]
  },
  {
   "cell_type": "code",
   "execution_count": 31,
   "metadata": {},
   "outputs": [],
   "source": [
    "import os, shutil, glob, PIL\n",
    "from time import sleep\n",
    "from PIL import Image   "
   ]
  },
  {
   "cell_type": "code",
   "execution_count": 32,
   "metadata": {},
   "outputs": [],
   "source": [
    "# 清空資料夾\n",
    "def emptydir(dirname):\n",
    "    if os.path.isdir(dirname): # 如果該資料夾是存在為True,反之為False\n",
    "        shutil.rmtree(dirname) # 依序刪除該資料夾中的檔案\n",
    "        sleep(2)\n",
    "    os.mkdir(dirname)"
   ]
  },
  {
   "cell_type": "code",
   "execution_count": 33,
   "metadata": {},
   "outputs": [],
   "source": [
    "# src為原影像資料夾, dst為預處理的資料夾\n",
    "def dirResize(src, dst):\n",
    "    myfiles = glob.glob(src+'/*.jpg') # 讀取str資料夾中所有副檔名為jpg的檔案名稱\n",
    "    emptydir(dst)\n",
    "    for i, f in enumerate(myfiles):\n",
    "        img = Image.open(f)\n",
    "        img_new = img.resize((300,225),PIL.Image.ANTIALIAS) # ANTIALIAS為欠取樣，縮小影像為(300,225)\n",
    "        img_new.save(dst+'/'+'resize'+str('{:0>3d}').format(i+1)+'.bmp') # 將新影像以bmp儲存至dst資料夾"
   ]
  },
  {
   "cell_type": "code",
   "execution_count": 34,
   "metadata": {},
   "outputs": [],
   "source": [
    "dirResize('carPlate_sr', 'carPlate')"
   ]
  },
  {
   "cell_type": "markdown",
   "metadata": {},
   "source": [
    "## 02. 處理負樣本影像"
   ]
  },
  {
   "cell_type": "code",
   "execution_count": 36,
   "metadata": {},
   "outputs": [],
   "source": [
    "myfiles = glob.glob(\"carNegative_sr/*.jpg\")\n",
    "emptydir('carNegative')\n",
    "\n",
    "for i, f in enumerate(myfiles):\n",
    "    img = Image.open(f)\n",
    "    img_new = img.resize((500, 375), PIL.Image.ANTIALIAS)\n",
    "    img_new = img_new.convert('L')  #轉換為灰階\n",
    "    img_new.save('carNegative/'+'negGray'+str('{:0>3d}').format(i+1)+'.bmp')"
   ]
  },
  {
   "cell_type": "markdown",
   "metadata": {},
   "source": [
    "# 二、建立車牌號碼Harr特徵分類器模型"
   ]
  },
  {
   "cell_type": "markdown",
   "metadata": {},
   "source": [
    "1. OpenCV Haar 特徵分類器模型訓練 https://github.com/sauhaardac/haar-training\n",
    "2. OpenCV 官網 https://opencv.org/releases/ 中，下載opencv-3.4.9-vc14_vc.exe\n",
    "    a. opencv\\build\\x64\\vc15\\bin"
   ]
  },
  {
   "cell_type": "code",
   "execution_count": 38,
   "metadata": {},
   "outputs": [
    {
     "name": "stdout",
     "output_type": "stream",
     "text": [
      "4.0.0\n"
     ]
    }
   ],
   "source": [
    "import cv2\n",
    "print(cv2.__version__)"
   ]
  },
  {
   "cell_type": "code",
   "execution_count": null,
   "metadata": {},
   "outputs": [],
   "source": []
  }
 ],
 "metadata": {
  "kernelspec": {
   "display_name": "Python 3",
   "language": "python",
   "name": "python3"
  },
  "language_info": {
   "codemirror_mode": {
    "name": "ipython",
    "version": 3
   },
   "file_extension": ".py",
   "mimetype": "text/x-python",
   "name": "python",
   "nbconvert_exporter": "python",
   "pygments_lexer": "ipython3",
   "version": "3.6.10"
  }
 },
 "nbformat": 4,
 "nbformat_minor": 4
}
