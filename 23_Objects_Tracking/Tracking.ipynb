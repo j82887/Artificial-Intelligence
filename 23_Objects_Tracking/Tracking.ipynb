{
 "cells": [
  {
   "cell_type": "code",
   "execution_count": 2,
   "metadata": {},
   "outputs": [
    {
     "name": "stdout",
     "output_type": "stream",
     "text": [
      "(227, 2, 163, 149)\n"
     ]
    }
   ],
   "source": [
    "import cv2\n",
    "\n",
    "#tracker = cv2.TrackerBoosting_create()\n",
    "#tracker = cv2.TrackerMIL_create()\n",
    "#tracker = cv2.TrackerKCF_create()\n",
    "#tracker = cv2.TrackerTLD_create()\n",
    "#tracker = cv2.TrackerMedianFlow_create()\n",
    "#tracker = cv2.TrackerGOTURN_create()\n",
    "#tracker = cv2.TrackerMOSSE_create()\n",
    "tracker = cv2.TrackerCSRT_create()\n",
    "\n",
    "video = cv2.VideoCapture(0)\n",
    "\n",
    "save_bbox = []\n",
    "\n",
    "while True:\n",
    "    _, frame = video.read()\n",
    "    if type(frame) == type(None):\n",
    "        break\n",
    "    \n",
    "    if save_bbox == []:\n",
    "        bbox = cv2.selectROI(frame, False)\n",
    "        print(bbox)\n",
    "        save_bbox.append(bbox)\n",
    "        ok = tracker.init(frame, bbox)\n",
    "    \n",
    "    ok, bbox = tracker.update(frame)\n",
    "    \n",
    "    if ok:\n",
    "        p1 = (int(bbox[0]), int(bbox[1]))\n",
    "        p2 = (int(bbox[0] + bbox[2]), int(bbox[1] + bbox[3]))\n",
    "        cv2.rectangle(frame, p1, p2, (255, 0, 0), 2, 1)\n",
    "    else:\n",
    "        cv2.putText(frame, \"Tracking failure detected\", (100, 80), cv2.FONT_HERSHEY_SIMPLEX, 0.75, (0, 0, 255), 2)\n",
    "\n",
    "    cv2.imshow(\"Tracking\", frame)\n",
    "\n",
    "    if cv2.waitKey(1) & 0xFF == ord('q'):\n",
    "        break\n",
    "\n",
    "video.release()\n",
    "cv2.destroyAllWindows()"
   ]
  },
  {
   "cell_type": "code",
   "execution_count": null,
   "metadata": {},
   "outputs": [],
   "source": []
  }
 ],
 "metadata": {
  "kernelspec": {
   "display_name": "Python 3",
   "language": "python",
   "name": "python3"
  },
  "language_info": {
   "codemirror_mode": {
    "name": "ipython",
    "version": 3
   },
   "file_extension": ".py",
   "mimetype": "text/x-python",
   "name": "python",
   "nbconvert_exporter": "python",
   "pygments_lexer": "ipython3",
   "version": "3.6.10"
  }
 },
 "nbformat": 4,
 "nbformat_minor": 5
}
