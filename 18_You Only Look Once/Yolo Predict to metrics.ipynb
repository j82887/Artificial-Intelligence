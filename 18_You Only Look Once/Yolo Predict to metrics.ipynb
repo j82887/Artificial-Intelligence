{
 "cells": [
  {
   "cell_type": "markdown",
   "id": "5e17936e",
   "metadata": {},
   "source": [
    "## 物件偵測的多項指標\n",
    "* Rafael Padilla __***et al.***__發表統整物件偵測的多項指標文章[[Paper]](https://github.com/rafaelpadilla/Object-Detection-Metrics/raw/master/paper_survey_on_performance_metrics_for_object_detection_algorithms.pdf)，並在開源的Github[[連結]](https://github.com/rafaelpadilla/Object-Detection-Metrics#how-to-use-this-project)提供不同的物件偵測任務比賽，所用的不同的指標算法，並可以使用使用者介面[[連結]](https://github.com/rafaelpadilla/review_object_detection_metrics)直接作指標計算。"
   ]
  },
  {
   "cell_type": "markdown",
   "id": "e1262eb3",
   "metadata": {},
   "source": [
    "### 01. 安裝\n",
    "* 第一步至Github使用者介面的存儲庫下載，左鍵點擊 **Code** → **Download ZIP**\n",
    "* 強烈建議您使用此使用者介面的存儲庫中可用的文件創建**anaconda**環境。`environment.yml`要創建環境並安裝所有必需的套件，請命令提示字元移動至下載完成的存儲庫資料夾(使用`cd path`指令)，運行以下命令：\n",
    "    * `conda env create -n <env_name> --file environment.yml`\n",
    "    * 進入環境：`conda activate <env_name>`\n",
    "    * 安裝套件：`python setup.py install`\n",
    "    * 運行使用者界面：`python run.py`\n",
    "    \n",
    "<img src=\"https://raw.githubusercontent.com/rafaelpadilla/review_object_detection_metrics/main/data/images/printshot_main_screen.png\" width=\"60%\" />"
   ]
  },
  {
   "cell_type": "markdown",
   "id": "45862861",
   "metadata": {},
   "source": [
    "### 02. 使用說明\n",
    "\n",
    "每個紅色數字編號，如下所述：\n",
    "\n",
    "1. **Annotations(標註)**：選擇包含實際標籤檔案的資料夾。\n",
    "2. **Images(影像)**：選擇包含影像的資料夾。\n",
    "3. **Classes(類別)**：YOLO (.txt) 訓練格式表示具有 ID（順序整數）的類。對於這標註類型，您需要格式為一個 txt 文件，其中每行列出一個類。第一行是 id 為 0 的類，第二行是 id 為 1 的類，以此類推。請參見此處用於表示 VOC PASCAL 數據集類的檔案範例。\n",
    "4. **Coordinate formats(坐標格式)**：選擇標註檔案的格式。\n",
    "5. **Ground-truth statistics(實際框統計)**：這是可選功能，統計每個Ground-Truth的邊界框之類別數量，並使用邊界框可視化圖像。要使用此選項，您必須已給予第二項的影像資料夾。\n",
    "6. **Annotations(標註)**：選擇包含帶有檢測的標註檔案的資料夾。\n",
    "7. **Classes(類)**：同第三項。\n",
    "8. **Coordinate formats(坐標格式)**：選擇用於表示檢測的檔案之格式。\n",
    "9. **Detections statistics(檢測統計)**：這是可選功能，統計每個類的檢測數量。並可藉由在影像繪製檢測框及實際框來可視化檢測的能力。\n",
    "10. **Metrics(指標)**：選擇至少一個指標來評估您的檢測。對於PASCAL VOC AP和mAP，可以選擇不同的IOU。請注意，PASCAL VOC AP 指標中使用的默認 IOU 臨界值為 0.5。\n",
    "11. **Output(輸出)**：選擇將保存 PASCAL VOC AP 圖的資料夾。\n",
    "12. **RUN(運行)**：運行計算指標。根據數據集的數量和檢測的格式，可能需要一段時間。相對坐標中的檢測通常比其他格式需要更長的時間來讀取。\n",
    "\n",
    "#### 備註：\n",
    "* 可視化數據集的統計數據（項目5、9：實際與檢測框之統計），以確保您選擇正確的格式。如果格式不正確，這些框將在圖像上顯示不正確或無法開啟。\n",
    "* 路徑不能有**中文字**。\n",
    "* 標註格式的範例位於 `data\\database\\gts`\n",
    "* 檢測格式的範例位於 `data\\database\\dets` "
   ]
  },
  {
   "cell_type": "markdown",
   "id": "6edb12f6",
   "metadata": {},
   "source": [
    "## 儲存YOLOv4檢測的結果，格式轉為尚未正規化的左上角與寬高\n",
    "* 為上述項目8的左邊第三個格式 `(*) <class_id> <confidence> <left> <top> <width> <height> (ABSOLUTE)`\n",
    "* Absolute (絕對) 與 Relative (相對) 指的是原始位值(未正規化) 與 正規化後(數值介於0-1間)的位置\n",
    "* 產生的檢測結果txt檔案名稱，需要**與標籤檔案及影像名稱完全相同**!!"
   ]
  },
  {
   "cell_type": "code",
   "execution_count": 7,
   "id": "06f49f6f",
   "metadata": {},
   "outputs": [],
   "source": [
    "import cv2\n",
    "import numpy as np\n",
    "import matplotlib.pyplot as plt\n",
    "import os"
   ]
  },
  {
   "cell_type": "code",
   "execution_count": 8,
   "id": "1f64c16d",
   "metadata": {},
   "outputs": [],
   "source": [
    "net = cv2.dnn.readNet(\"yolov4-tiny_last.weights\",\"yolov4-tiny.cfg\")\n",
    "layer_names = net.getLayerNames()\n",
    "output_layers = [layer_names[i-1] for i in net.getUnconnectedOutLayers()]"
   ]
  },
  {
   "cell_type": "code",
   "execution_count": 9,
   "id": "c55c7c47",
   "metadata": {},
   "outputs": [],
   "source": [
    "classes = [line.strip() for line in open(\"coco.names\")]"
   ]
  },
  {
   "cell_type": "code",
   "execution_count": 10,
   "id": "b2dfeb8a",
   "metadata": {},
   "outputs": [],
   "source": [
    "colors = [(0,0,255),(0,255,0),(255,0,0)]"
   ]
  },
  {
   "cell_type": "code",
   "execution_count": 11,
   "id": "c2402cad",
   "metadata": {},
   "outputs": [],
   "source": [
    "def yolo_detect_save(img):\n",
    "    height, width, channels = img.shape\n",
    "    blob = cv2.dnn.blobFromImage(img, 1/255.0, (416, 416), (0, 0, 0), True, crop=False)\n",
    "    net.setInput(blob)\n",
    "    outs = net.forward(output_layers)\n",
    "    \n",
    "    boxes, confidences, class_ids = [], [], []\n",
    "    predict_str = \"\"\n",
    "    \n",
    "    for out in outs:\n",
    "        for detection in out:\n",
    "            tx, ty, tw, th, confidence = detection[0:5]\n",
    "            scores = detection[5:]\n",
    "            class_id = np.argmax(scores)\n",
    "            if confidence>0:\n",
    "                center_x = int(tx*width)\n",
    "                center_y = int(ty*height)\n",
    "                w = int(tw*width)\n",
    "                h = int(th*height)\n",
    "                x = int(center_x-w/2)\n",
    "                y = int(center_y-h/2)\n",
    "                boxes.append([x, y, w, h])\n",
    "                confidences.append(float(confidence))\n",
    "                class_ids.append(class_id)\n",
    "                \n",
    "    indexes = cv2.dnn.NMSBoxes(boxes, confidences, 0.5, 0.5)\n",
    "    \n",
    "    for i in range(len(boxes)):\n",
    "        if i in indexes:\n",
    "            x, y, w, h = boxes[i]\n",
    "            label = class_ids[i]\n",
    "            confidence = confidences[i]\n",
    "            predict_str += str(label)+\" \"+str(confidence)+\" \"+str(x)+\" \"+str(y)+\" \"+str(w)+\" \"+str(h)+\"\\n\"\n",
    "            cv2.rectangle(img, (x, y), (x+w, y+h), colors[label], 2)\n",
    "            cv2.putText(img, str(label), (x, y-5), cv2.FONT_HERSHEY_SIMPLEX, 0.5, colors[label], 1)\n",
    "    \n",
    "    return predict_str, img"
   ]
  },
  {
   "cell_type": "code",
   "execution_count": 12,
   "id": "882ca8f8",
   "metadata": {},
   "outputs": [],
   "source": [
    "# 預檢測的影像之資料夾\n",
    "path_img = \"images\"\n",
    "# 檢測後儲存的資料夾\n",
    "path_predict = \"predict\"\n",
    "filenames = os.listdir(path_img)\n",
    "\n",
    "for i in range(len(filenames)):\n",
    "    img = cv2.imread(path_img+\"/\"+filenames[i])\n",
    "    img = cv2.resize(img, None, fx=1.0, fy=1.0)\n",
    "    predict_str, img = yolo_detect_save(img)\n",
    "    filenames_no = os.path.splitext(filenames[i])[0]\n",
    "\n",
    "    with open(path_predict+\"/\"+filenames_no+\".txt\", mode=\"w\") as f:\n",
    "        print(predict_str, file=f)"
   ]
  },
  {
   "cell_type": "code",
   "execution_count": null,
   "id": "58baac9e",
   "metadata": {},
   "outputs": [],
   "source": []
  }
 ],
 "metadata": {
  "kernelspec": {
   "display_name": "Python 3 (ipykernel)",
   "language": "python",
   "name": "python3"
  },
  "language_info": {
   "codemirror_mode": {
    "name": "ipython",
    "version": 3
   },
   "file_extension": ".py",
   "mimetype": "text/x-python",
   "name": "python",
   "nbconvert_exporter": "python",
   "pygments_lexer": "ipython3",
   "version": "3.9.9"
  }
 },
 "nbformat": 4,
 "nbformat_minor": 5
}
