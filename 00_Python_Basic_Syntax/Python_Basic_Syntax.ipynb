{
 "cells": [
  {
   "cell_type": "markdown",
   "metadata": {
    "colab_type": "text",
    "id": "Vk7sewWu9J7Y"
   },
   "source": [
    "# **01 打印**\n",
    "*  基本打印輸出 `print(value, ... , sep=\"\", end = \"\\n\")`\n",
    "  * **value**：表示想要輸出的資料，可以多筆資料輸出，並以逗號隔開\n",
    "  * **sep**：放多個字串，預設會使用空白串成一行。可透過變更分隔符號，改變打印方式\n",
    "  * **end**：當資料輸出結束時所插入的字元，預設式插入換行字元\n",
    "*  格式化打印輸出 `print(\"輸出格式區\" %(變數系列區))`\n",
    "  * **%d**：整數\n",
    "  * **%f**：浮點數\n",
    "  * **%s**：字串\n",
    "  * **%e**：科學記號\n",
    "* 增強格式化打印輸出 `print(\"輸出格式區\" .format(變數系列區))`\n",
    "  * 可透過編號改變順序\n",
    "* 不用迴圈式來打印出重複字串"
   ]
  },
  {
   "cell_type": "code",
   "execution_count": null,
   "metadata": {
    "colab": {
     "base_uri": "https://localhost:8080/",
     "height": 34
    },
    "colab_type": "code",
    "id": "O8LCjOL1BQev",
    "outputId": "4d643f9b-a0fe-4285-ce7e-f243536d32e5"
   },
   "outputs": [
    {
     "name": "stdout",
     "output_type": "stream",
     "text": [
      "Hello! Python\n"
     ]
    }
   ],
   "source": [
    "#打印\n",
    "print(\"Hello! Python\")"
   ]
  },
  {
   "cell_type": "code",
   "execution_count": 4,
   "metadata": {
    "colab": {
     "base_uri": "https://localhost:8080/",
     "height": 50
    },
    "colab_type": "code",
    "id": "ii865MsZBTYx",
    "outputId": "63016e42-5b90-4aaf-9058-9984891477ff"
   },
   "outputs": [
    {
     "name": "stdout",
     "output_type": "stream",
     "text": [
      "12\n",
      "A B C\n"
     ]
    }
   ],
   "source": [
    "#字串連接\n",
    "print('A','B','C')"
   ]
  },
  {
   "cell_type": "code",
   "execution_count": 3,
   "metadata": {
    "colab": {
     "base_uri": "https://localhost:8080/",
     "height": 84
    },
    "colab_type": "code",
    "id": "0-MTTON0BUXr",
    "outputId": "8dcec499-5dd8-4e8c-c3a9-277e9070ebbf"
   },
   "outputs": [
    {
     "name": "stdout",
     "output_type": "stream",
     "text": [
      "A/B/C\n",
      "A\n",
      "B\n",
      "C\n"
     ]
    }
   ],
   "source": [
    "#更改分隔符號\n",
    "print('A', 'B', 'C', sep = '/')\n",
    "print('A', 'B', 'C', sep = '\\n')"
   ]
  },
  {
   "cell_type": "code",
   "execution_count": null,
   "metadata": {
    "colab": {
     "base_uri": "https://localhost:8080/",
     "height": 68
    },
    "colab_type": "code",
    "id": "OyUX6mwABVpL",
    "outputId": "84d0c94e-176e-43f5-a3ff-551c567103c9"
   },
   "outputs": [
    {
     "name": "stdout",
     "output_type": "stream",
     "text": [
      "我是小明，我的年齡是18歲\n",
      "我的身高是175.9公分，體重是68.65公斤\n",
      "我的興趣是打程式、閱讀和玩遊戲\n"
     ]
    }
   ],
   "source": [
    "#格式化打印\n",
    "print('我是{:s}，我的年齡是{:d}歲' .format('小明', 18))\n",
    "print('我的身高是%0.1f公分，體重是%0.2f公斤' %(175.86, 68.65))\n",
    "print('我的興趣是{0}、{2}和{1}' .format(\"打程式\", \"玩遊戲\", \"閱讀\"))"
   ]
  },
  {
   "cell_type": "code",
   "execution_count": null,
   "metadata": {
    "colab": {
     "base_uri": "https://localhost:8080/",
     "height": 34
    },
    "colab_type": "code",
    "id": "6RhRUgZn0jDX",
    "outputId": "b1bfec62-138f-4793-d1de-0c7057452bd3"
   },
   "outputs": [
    {
     "name": "stdout",
     "output_type": "stream",
     "text": [
      "我喜歡打程式 \t我喜歡打程式 \t我喜歡打程式 \t我喜歡打程式 \t我喜歡打程式 \t\n"
     ]
    }
   ],
   "source": [
    "#重複打印\n",
    "text = \"我喜歡打程式 \\t\" * 5\n",
    "print(text)"
   ]
  },
  {
   "cell_type": "markdown",
   "metadata": {
    "colab_type": "text",
    "id": "xiAr7Oik8wIA"
   },
   "source": [
    "-----\n",
    "# **02 註解**\n",
    "* 「#」 可作註解，該行後面不會顯示\n",
    "* 「'''」　三個單引號可作註解，中間的不會顯示\n",
    "* 「\"\"\"」　三個雙引號可作註解，中間的不會顯示"
   ]
  },
  {
   "cell_type": "code",
   "execution_count": 5,
   "metadata": {
    "colab": {
     "base_uri": "https://localhost:8080/",
     "height": 34
    },
    "colab_type": "code",
    "id": "03xVIYDN8s7y",
    "outputId": "9b10aff0-95b1-4615-b286-536c11459d70"
   },
   "outputs": [
    {
     "name": "stdout",
     "output_type": "stream",
     "text": [
      "我沒有註解\n"
     ]
    }
   ],
   "source": [
    "#註解\n",
    "#print(\"我不會打印出來，因為我是註解\")\n",
    "\n",
    "#三個雙引號當註解\n",
    "\"\"\"\n",
    "print(\"我不會打印出來，因為我是註解\")\n",
    "\"\"\"\n",
    "\n",
    "#三個單引號當註解\n",
    "'''\n",
    "print(\"我不會打印出來，因為我是註解\")\n",
    "'''\n",
    "\n",
    "print(\"我沒有註解\")"
   ]
  },
  {
   "cell_type": "markdown",
   "metadata": {
    "colab_type": "text",
    "id": "YOUCCLB02xev"
   },
   "source": [
    "------\n",
    "# **03 變數的命名原則**\n",
    "\n",
    "\n",
    "=====================================================\n",
    "# **03-1 Python 系統保留字**\n",
    "\n",
    "![GITHUB](https://github.com/j82887/Artificial-Intelligence/blob/master/00_Image/Python%20Reserved%20Word.png?raw=true)\n",
    "\n",
    "\n",
    "=====================================================\n",
    "# **03-2 Python 系統內建函數**\n",
    "\n",
    "![GITHUB](https://github.com/j82887/Artificial-Intelligence/blob/master/00_Image/Python%20Built-in%20System%20Functions.png?raw=true)"
   ]
  },
  {
   "cell_type": "markdown",
   "metadata": {
    "colab_type": "text",
    "id": "n9DUSValHlrr"
   },
   "source": [
    "----------\n",
    "# **04 基本數學運算**\n",
    "* 加、減、乘 與 除\n",
    "* 餘數 和 整除\n",
    "* 次方\n",
    "* 指派運算子\n",
    "* 等號多重指定使用\n",
    "* 刪除變數\n"
   ]
  },
  {
   "cell_type": "code",
   "execution_count": null,
   "metadata": {
    "colab": {
     "base_uri": "https://localhost:8080/",
     "height": 136
    },
    "colab_type": "code",
    "id": "W0i7njZ9G_Gl",
    "outputId": "ad8eb368-4923-47bb-8b40-41de1c3cbdfe"
   },
   "outputs": [
    {
     "name": "stdout",
     "output_type": "stream",
     "text": [
      "加： 13\n",
      "減： 7\n",
      "乘： 30\n",
      "除： 3.3333333333333335\n",
      "餘數： 1\n",
      "整除： 3\n",
      "次方： 1000\n"
     ]
    }
   ],
   "source": [
    "# 加、減、乘 與 除\n",
    "a = 10\n",
    "b = 3\n",
    "print(\"加：\", a+b) \n",
    "print(\"減：\", a-b)\n",
    "print(\"乘：\", a*b)\n",
    "print(\"除：\", a/b)\n",
    "\n",
    "# 餘數 和 整除\n",
    "print(\"餘數：\", a%b)\n",
    "print(\"整除：\", a//b)\n",
    "\n",
    "# 次方\n",
    "print(\"次方：\", a ** b)"
   ]
  },
  {
   "cell_type": "code",
   "execution_count": null,
   "metadata": {
    "colab": {
     "base_uri": "https://localhost:8080/",
     "height": 119
    },
    "colab_type": "code",
    "id": "Y0aHhFAIBwgY",
    "outputId": "4867a307-8402-4d02-eda1-970ee684714b"
   },
   "outputs": [
    {
     "name": "stdout",
     "output_type": "stream",
     "text": [
      "加等於： 12\n",
      "減等於： 8\n",
      "乘等於： 20\n",
      "除等於： 5.0\n",
      "整除等於： 5\n",
      "次方等於： 100\n"
     ]
    }
   ],
   "source": [
    "# 等號多重指定 與 指派運算子\n",
    "a1 = a2 = a3 = a4 = a5 = a6 = a \n",
    "a1 += 2\n",
    "print(\"加等於：\", a1)\n",
    "a2 -= 2\n",
    "print(\"減等於：\", a2)\n",
    "a3 *= 2\n",
    "print(\"乘等於：\", a3)\n",
    "a4 /= 2\n",
    "print(\"除等於：\", a4)\n",
    "a5 //= 2\n",
    "print(\"整除等於：\", a5)\n",
    "a6 **= 2\n",
    "print(\"次方等於：\", a6)"
   ]
  },
  {
   "cell_type": "code",
   "execution_count": null,
   "metadata": {
    "colab": {},
    "colab_type": "code",
    "id": "3SDdRAB-CCrb"
   },
   "outputs": [],
   "source": [
    "# 刪除變數\n",
    "del a6\n",
    "#print(a6) #無法打印"
   ]
  },
  {
   "cell_type": "markdown",
   "metadata": {
    "colab_type": "text",
    "id": "vnxgduTmLLdd"
   },
   "source": [
    "---------\n",
    "# **05 基本的資料型態**\n",
    "* 數值資料型態\n",
    "  * 整數\n",
    "  * 浮點數\n",
    "  * 複數 (不常用)\n",
    "* 布林值資料型態\n",
    "* 文字序列型態\n",
    "* 字元組 (不常用)\n",
    "* 序列型態 (後面介紹)\n",
    "* 對映型態 (後面介紹)\n",
    "* 集合型態 (後面介紹)\n",
    "\n",
    "**Python 中不相同資料型態間，部分也可以執行運算，例如：整數與浮點數之間**\n"
   ]
  },
  {
   "cell_type": "code",
   "execution_count": 7,
   "metadata": {
    "colab": {
     "base_uri": "https://localhost:8080/",
     "height": 168
    },
    "colab_type": "code",
    "id": "ack3AnYmLKeY",
    "outputId": "c0be4b24-694a-454e-9945-9d95c3681f97"
   },
   "outputs": [
    {
     "name": "stdout",
     "output_type": "stream",
     "text": [
      "<class 'int'>\n",
      "<class 'float'>\n",
      "<class 'int'>\n",
      "0\n",
      "<class 'str'>\n",
      "2\n",
      "8\n",
      "4.8\n",
      "6.222\n"
     ]
    }
   ],
   "source": [
    "#數值資料型態\n",
    "a = 10\n",
    "b = 0.5\n",
    "print(type(a))\n",
    "print(type(b))\n",
    "\n",
    "#強制資料型態的轉換\n",
    "b = int(b)\n",
    "print(type(b))\n",
    "print(b)\n",
    "b = str(b)\n",
    "print(type(b))\n",
    "\n",
    "#數值運算常用的函數\n",
    "print(abs(-2))           #絕對值\n",
    "print(pow(2,3))          #次方\n",
    "print(round(4.7777,1))   #四捨五入\n",
    "print(round(6.2222,3))"
   ]
  },
  {
   "cell_type": "code",
   "execution_count": 12,
   "metadata": {
    "colab": {
     "base_uri": "https://localhost:8080/",
     "height": 84
    },
    "colab_type": "code",
    "id": "cW2eZPADCRXG",
    "outputId": "9af27620-dbf8-4371-86d8-f94b2729ecf5"
   },
   "outputs": [
    {
     "name": "stdout",
     "output_type": "stream",
     "text": [
      "True\n",
      "<class 'bool'>\n",
      "1\n",
      "<class 'int'>\n"
     ]
    }
   ],
   "source": [
    "#布林值資料型態\n",
    "a = False\n",
    "b = True\n",
    "print(b)\n",
    "print(type(b))\n",
    "print(a+b)\n",
    "print(type(a+b))"
   ]
  },
  {
   "cell_type": "code",
   "execution_count": 14,
   "metadata": {
    "colab": {
     "base_uri": "https://localhost:8080/",
     "height": 84
    },
    "colab_type": "code",
    "id": "d9Lbr1kECTZd",
    "outputId": "17e67a4e-7989-4c7c-8767-3ab5f956dc1c"
   },
   "outputs": [
    {
     "name": "stdout",
     "output_type": "stream",
     "text": [
      "I'm Peter.\n",
      "I'm Peter\n",
      "I'm Peter\tI love Python.\n",
      "123\\n321\n"
     ]
    }
   ],
   "source": [
    "#字串資料型態 \n",
    "#a = 'I'm Peter'     #字串出現單引號有問題\n",
    "a = \"I'm Peter.\"      #字串出現單引號，使用雙引號\n",
    "print(a)\n",
    "a = 'I\\'m Peter'      #字串出現單引號，使用逸出字元\n",
    "print(a)\n",
    "b = \"I love Python.\" \n",
    "c = a+\"\\t\"+b          #字串透過加號來串成新字串\n",
    "print(c)\n",
    "d = r\"123\\n321\"       #使用r防止逸出字元被轉譯\n",
    "print(d)"
   ]
  },
  {
   "cell_type": "code",
   "execution_count": null,
   "metadata": {
    "colab": {
     "base_uri": "https://localhost:8080/",
     "height": 51
    },
    "colab_type": "code",
    "id": "HiGboirpCVvl",
    "outputId": "f73cabbf-ba89-4dd4-b30c-9c7aac6a2bbf"
   },
   "outputs": [
    {
     "name": "stdout",
     "output_type": "stream",
     "text": [
      "a\n",
      "A\n"
     ]
    }
   ],
   "source": [
    "# ASCII碼\n",
    "e = 97\n",
    "print(chr(e))\n",
    "e -= 32\n",
    "print(chr(e))"
   ]
  },
  {
   "cell_type": "markdown",
   "metadata": {
    "colab_type": "text",
    "id": "Ljh9IGRBWIjB"
   },
   "source": [
    "---\n",
    "# **06 輸出資料/打開檔案**\n",
    "\n",
    "=====================================================\n",
    "## **06-1 開啟檔案**\n",
    "`file_Obj = open(file, mode=\"r\")`\n",
    "* **file**：用字串列出域開啟的檔案\n",
    "* **mode**：開啟檔案的模式\n",
    "  * 第一個字母操作意義 \n",
    "    * r 是預設，開啟檔案供讀取\n",
    "    * w 開啟檔案供寫入，如果原先檔案有內容將被覆蓋\n",
    "    * a 開啟檔案工寫入，如果原先檔案有內容，新寫入資料將附加在後面\n",
    "    * x 開啟一個新的檔案供寫入，如果所開啟的檔案已經存在會產生錯誤\n",
    "  * 第二個字母操作意義\n",
    "    * b 開啟二進位檔案模式\n",
    "    * t 是預測，開啟文字檔案模式\n",
    "* **file_Obj**：不使用要正常關閉，要使用`file_Obj.close()`\n",
    "\n",
    "=====================================================\n",
    "## **06-2 資料輸入**\n",
    "`value = input(\"prompt:\")`\n",
    "* **value**：是變數，所輸入的資料會儲存在此變數內，不管回傳的資料是何種型態，回傳至value時皆為字串資料，如果要執行數學運算要用強制轉換等方式\n",
    "`result = eval(expression)`\n",
    "* **eval**：可以回傳字串內數學表達式的計算結果，expression必須為字串"
   ]
  },
  {
   "cell_type": "code",
   "execution_count": 19,
   "metadata": {
    "colab": {},
    "colab_type": "code",
    "id": "dT-n3xQbVrfj"
   },
   "outputs": [],
   "source": [
    "#開啟檔案，並寫入\n",
    "text1 = open(\"text_1.txt\", mode=\"wt\")\n",
    "print(\"Java \", file=text1)\n",
    "text1.write(\"Python\")\n",
    "text1.close()"
   ]
  },
  {
   "cell_type": "code",
   "execution_count": 20,
   "metadata": {
    "colab": {},
    "colab_type": "code",
    "id": "MpRBJva2Q-Ij"
   },
   "outputs": [],
   "source": [
    "text2 = open(\"text_1.txt\", mode=\"at\")\n",
    "print(\"matlab \", file=text2)\n",
    "text2.write(\"C++\")\n",
    "text2.close()"
   ]
  },
  {
   "cell_type": "code",
   "execution_count": 23,
   "metadata": {
    "colab": {
     "base_uri": "https://localhost:8080/",
     "height": 118
    },
    "colab_type": "code",
    "id": "itHrlyeubt0F",
    "outputId": "59112b51-a380-4d1a-ccb6-7cb30085b6cf"
   },
   "outputs": [
    {
     "name": "stdout",
     "output_type": "stream",
     "text": [
      "請輸入姓名：小明\n",
      "請輸入身高：168.5\n",
      "請輸入體重：62.8\n",
      "我是小明，身高是168.5公分，體重是62.8公斤\n",
      "資料型態是<class 'str'>, <class 'str'>, <class 'str'>\n",
      "我的BMI是22.12\n"
     ]
    }
   ],
   "source": [
    "#資料輸入\n",
    "name = input(\"請輸入姓名：\")\n",
    "h = input(\"請輸入身高：\")\n",
    "w = input(\"請輸入體重：\")\n",
    "print(\"我是%s，身高是%s公分，體重是%s公斤\" %(name, h, w))\n",
    "print(\"資料型態是%s, %s, %s\" %(type(name), type(h), type(w)))\n",
    "bmi = float(w)/((float(h)/100)**2)\n",
    "print(\"我的BMI是%0.2f\" %(bmi))"
   ]
  },
  {
   "cell_type": "code",
   "execution_count": 27,
   "metadata": {
    "colab": {
     "base_uri": "https://localhost:8080/",
     "height": 50
    },
    "colab_type": "code",
    "id": "ioc-Pr68eay3",
    "outputId": "cfeac016-a748-471c-8055-ccf0cb5f06f5"
   },
   "outputs": [
    {
     "name": "stdout",
     "output_type": "stream",
     "text": [
      "請輸入公式：2+10*2\n",
      "計算結果為：22.00\n"
     ]
    }
   ],
   "source": [
    "#資料輸入\n",
    "eq_str = input(\"請輸入公式：\")\n",
    "eq = eval(eq_str)\n",
    "print(\"計算結果為：%0.2f\" %(eq))"
   ]
  },
  {
   "cell_type": "markdown",
   "metadata": {
    "colab_type": "text",
    "id": "bEtTxkB5fHdv"
   },
   "source": [
    "---\n",
    "# **07 運算子**\n",
    "\n",
    "=====================================================\n",
    "# **07-1 關係運算子**\n",
    "\n",
    "![GITHUB](https://github.com/j82887/Artificial-Intelligence/blob/master/00_Image/Relational%20Operator.png?raw=true)\n",
    "\n",
    "=====================================================\n",
    "# **07-2 邏輯運算子**\n",
    "* and\n",
    "* or \n",
    "* not\n"
   ]
  },
  {
   "cell_type": "code",
   "execution_count": null,
   "metadata": {
    "colab": {
     "base_uri": "https://localhost:8080/",
     "height": 119
    },
    "colab_type": "code",
    "id": "YTzRbuCvirdn",
    "outputId": "f6ec6b86-8f62-4556-dd95-cbf12ff773b3"
   },
   "outputs": [
    {
     "name": "stdout",
     "output_type": "stream",
     "text": [
      "False\n",
      "True\n",
      "True\n",
      "True\n",
      "True\n",
      "False\n"
     ]
    }
   ],
   "source": [
    "a = 2\n",
    "print(a > 3)\n",
    "print(a == 2)\n",
    "print(a != \"2\")\n",
    "print(str(a) == \"2\")\n",
    "\n",
    "b = (4>2) and (-1>-5)\n",
    "print(b)\n",
    "\n",
    "c = not(2>1)\n",
    "print(c)"
   ]
  },
  {
   "cell_type": "markdown",
   "metadata": {
    "colab_type": "text",
    "id": "D1fAJKXBlRFe"
   },
   "source": [
    "----------\n",
    "# **08 流程控制**\n",
    "* if\n",
    "* if else\n",
    "* if elif else\n",
    "* 巢狀 if"
   ]
  },
  {
   "cell_type": "code",
   "execution_count": 32,
   "metadata": {
    "colab": {
     "base_uri": "https://localhost:8080/",
     "height": 34
    },
    "colab_type": "code",
    "id": "InvST5pblFm6",
    "outputId": "14d2cdfc-e406-4072-d39c-6fe2b5919b49"
   },
   "outputs": [
    {
     "name": "stdout",
     "output_type": "stream",
     "text": [
      "程式執行了!\n"
     ]
    }
   ],
   "source": [
    "if(True):\n",
    "  print(\"程式執行了!\")"
   ]
  },
  {
   "cell_type": "code",
   "execution_count": 33,
   "metadata": {
    "colab": {
     "base_uri": "https://localhost:8080/",
     "height": 50
    },
    "colab_type": "code",
    "id": "BUoO2DLImbiJ",
    "outputId": "d1f2754f-2c56-423f-b6ea-8a80186d5352"
   },
   "outputs": [
    {
     "name": "stdout",
     "output_type": "stream",
     "text": [
      "請輸入年齡：20\n",
      "歡迎購買菸酒\n"
     ]
    }
   ],
   "source": [
    "year = input(\"請輸入年齡：\")\n",
    "if(int(year)<20):\n",
    "  print(\"你年齡太小，需要年滿18歲才能購買菸酒\")\n",
    "else:\n",
    "  print(\"歡迎購買菸酒\")"
   ]
  },
  {
   "cell_type": "code",
   "execution_count": 34,
   "metadata": {
    "colab": {
     "base_uri": "https://localhost:8080/",
     "height": 50
    },
    "colab_type": "code",
    "id": "4qY09mzCm3yR",
    "outputId": "f79a5c01-adc5-45c9-fcab-1e4d20fbeb74"
   },
   "outputs": [
    {
     "name": "stdout",
     "output_type": "stream",
     "text": [
      "請輸入年齡：200\n",
      "你不是人!\n"
     ]
    }
   ],
   "source": [
    "year = int(input(\"請輸入年齡：\"))\n",
    "if(0<year<18):\n",
    "  print(\"你是未成年\")\n",
    "elif(18<=year<65):\n",
    "  print(\"你是青年人\")\n",
    "elif(65<=year<150):\n",
    "  print(\"你是老年人\")\n",
    "else:\n",
    "  print(\"你不是人!\")"
   ]
  },
  {
   "cell_type": "markdown",
   "metadata": {
    "colab_type": "text",
    "id": "gKtCrakoq1DT"
   },
   "source": [
    "--------\n",
    "# **09 列表(list)**\n",
    "* 切片\n",
    "* 索引\n",
    "* 統計資料\n",
    "  * 最大值\n",
    "  * 最小值\n",
    "  * 總和\n",
    "  * 個數\n",
    "* 更改列表元素\n",
    "* 刪除列表元素\n",
    "* 列表多重指定\n",
    "* 增加、插入與刪除列表的元素\n",
    "* 列表的排序\n",
    "* 列表內特定元素出現的次數\n"
   ]
  },
  {
   "cell_type": "code",
   "execution_count": 37,
   "metadata": {
    "colab": {
     "base_uri": "https://localhost:8080/",
     "height": 218
    },
    "colab_type": "code",
    "id": "jy1zHl3Cs-z7",
    "outputId": "2c2126d4-0d29-40e1-c1da-46182f0a5510"
   },
   "outputs": [
    {
     "name": "stdout",
     "output_type": "stream",
     "text": [
      "['蘋果', '香蕉', '橘子']\n",
      "蘋果\n",
      "[2, 3, 4]\n",
      "[0, 1, 2]\n",
      "[0, 1, 2, 3, 4, 5, 6, 7]\n",
      "[7, 8, 9, 10]\n",
      "[4, 5, 6, 7, 8, 9, 10]\n",
      "10\n",
      "2\n",
      "[4, 5]\n",
      "8\n",
      "0\n"
     ]
    }
   ],
   "source": [
    "fruits = ['蘋果', '香蕉', '橘子']\n",
    "print(fruits)\n",
    "print(fruits[0])\n",
    "\n",
    "#索引與切片\n",
    "number = [0,1,2,3,4,5,6,7,8,9,10]\n",
    "matrix = [[0,1,2],[3,4,5],[6,7,8]]\n",
    "\n",
    "print(number[2:5])\n",
    "print(number[:3])\n",
    "print(number[:-3])\n",
    "print(number[7:])\n",
    "print(number[-7:])\n",
    "print(number[-1])\n",
    "\n",
    "print(matrix[0][2])\n",
    "print(matrix[1][1:])\n",
    "print(matrix[-1][-1])\n",
    "\n",
    "print(matrix.index([0,1,2]))"
   ]
  },
  {
   "cell_type": "code",
   "execution_count": null,
   "metadata": {
    "colab": {
     "base_uri": "https://localhost:8080/",
     "height": 85
    },
    "colab_type": "code",
    "id": "UpUWm_IhW-jP",
    "outputId": "06339df2-6eba-4152-e75f-1920997b3c19"
   },
   "outputs": [
    {
     "name": "stdout",
     "output_type": "stream",
     "text": [
      "1\n",
      "3\n",
      "6\n",
      "3\n"
     ]
    }
   ],
   "source": [
    "#統計資料\n",
    "a = [1,2,3]\n",
    "print(min(a))\n",
    "print(max(a))\n",
    "print(sum(a))\n",
    "print(len(a))"
   ]
  },
  {
   "cell_type": "code",
   "execution_count": null,
   "metadata": {
    "colab": {
     "base_uri": "https://localhost:8080/",
     "height": 34
    },
    "colab_type": "code",
    "id": "_GcGJXEuXBCn",
    "outputId": "cc93d22a-8788-492f-b112-c3bdf3ac96ef"
   },
   "outputs": [
    {
     "name": "stdout",
     "output_type": "stream",
     "text": [
      "[4, 2, 3]\n"
     ]
    }
   ],
   "source": [
    "#更改列表元素\n",
    "a[0] = 4\n",
    "print(a)"
   ]
  },
  {
   "cell_type": "code",
   "execution_count": null,
   "metadata": {
    "colab": {
     "base_uri": "https://localhost:8080/",
     "height": 34
    },
    "colab_type": "code",
    "id": "qbqDSoM4XEHO",
    "outputId": "79622ce8-8ebc-43a6-bc0f-cfe18a49b269"
   },
   "outputs": [
    {
     "name": "stdout",
     "output_type": "stream",
     "text": [
      "[4, 3]\n"
     ]
    }
   ],
   "source": [
    "#刪除列表元素\n",
    "del a[1]\n",
    "print(a)"
   ]
  },
  {
   "cell_type": "code",
   "execution_count": 40,
   "metadata": {
    "colab": {
     "base_uri": "https://localhost:8080/",
     "height": 34
    },
    "colab_type": "code",
    "id": "GMfbYZxuXHZu",
    "outputId": "25269e34-4e3a-4e12-b7d7-d5456983b7c6"
   },
   "outputs": [
    {
     "name": "stdout",
     "output_type": "stream",
     "text": [
      "1 [2, 3, 4, 5] 6\n"
     ]
    }
   ],
   "source": [
    "#多重指定\n",
    "a, *b, c = 1,2,3,4,5,6\n",
    "print(a,b,c)"
   ]
  },
  {
   "cell_type": "code",
   "execution_count": 44,
   "metadata": {
    "colab": {
     "base_uri": "https://localhost:8080/",
     "height": 151
    },
    "colab_type": "code",
    "id": "clRKVFI3XI8N",
    "outputId": "3c862468-afa5-4daa-f9f7-345b80885683"
   },
   "outputs": [
    {
     "name": "stdout",
     "output_type": "stream",
     "text": [
      "[3, 4, 5, 1, 1, 1]\n",
      "[2, 2, 1, 1, 1]\n",
      "[1, 1, 1, 2]\n",
      "[3, 3.5, 4, 5]\n",
      "4\n",
      "[1, 2, 3]\n",
      "3\n",
      "[1, 2, 4]\n"
     ]
    }
   ],
   "source": [
    "#增加與刪除列表的元素\n",
    "b = [3,4,5]\n",
    "c = [1,1,1]\n",
    "print(b+c)\n",
    "\n",
    "c2 = [2, 2]\n",
    "c2.extend(c)\n",
    "print(c2)\n",
    "\n",
    "c.append(2)\n",
    "print(c)\n",
    "\n",
    "b.insert(1,3.5)\n",
    "print(b)\n",
    "\n",
    "d1, d2 = [1,2,3,4], [1,2,3,4]\n",
    "print(d1.pop())\n",
    "print(d1)\n",
    "print(d2.pop(2))\n",
    "print(d2)"
   ]
  },
  {
   "cell_type": "code",
   "execution_count": null,
   "metadata": {
    "colab": {
     "base_uri": "https://localhost:8080/",
     "height": 51
    },
    "colab_type": "code",
    "id": "SP2uDyI6XKwF",
    "outputId": "465119f6-7802-4946-fb23-73ffdd16043a"
   },
   "outputs": [
    {
     "name": "stdout",
     "output_type": "stream",
     "text": [
      "[1, 2, 3, 4, 5]\n",
      "[4, 5, 2, 1, 3]\n"
     ]
    }
   ],
   "source": [
    "#列表的排序\n",
    "e1, e2 = [3,1,2,5,4], [3,1,2,5,4]\n",
    "e1.sort()\n",
    "e2.reverse()\n",
    "print(e1)\n",
    "print(e2)"
   ]
  },
  {
   "cell_type": "code",
   "execution_count": null,
   "metadata": {
    "colab": {
     "base_uri": "https://localhost:8080/",
     "height": 34
    },
    "colab_type": "code",
    "id": "1RW0MHy-XMSd",
    "outputId": "59787392-d73f-458d-a33d-95ecd12aa07b"
   },
   "outputs": [
    {
     "name": "stdout",
     "output_type": "stream",
     "text": [
      "3\n"
     ]
    }
   ],
   "source": [
    "#列表內特定元素出現的次數\n",
    "f = [0,0,1,0,1]\n",
    "print(f.count(0))"
   ]
  },
  {
   "cell_type": "markdown",
   "metadata": {
    "colab_type": "text",
    "id": "PYzMCzwBMHt9"
   },
   "source": [
    "----------\n",
    "# 10 迴圈設計\n",
    "=====================================================\n",
    "\n",
    "## 10-1 for迴圈\n",
    "* `for var in 可迭代物件：`\n",
    "         `程式區塊`\n",
    "  * 可迭代物件可以式串列、元組、字典、集合或range()，上述與法可將可迭代物件的元素當作var重複執行，直到每個元素皆被執行一次，整個迴圈才會停止\n",
    "\n",
    "* `range(start, stop, step)`\n",
    "  * range()函數可以產生一等差級序列，常用於for迴圈的計數器\n",
    "\n",
    "* 列表生成之應用\n",
    "* enumerate物件\n",
    "  * 可以讓索引值與元素值配對出現\n",
    "* 巢狀for迴圈\n",
    "* 強制離開for迴圈指令：break\n",
    "* for迴圈不往下執行，跳至下一次迴圈中：continue\n",
    "\n",
    "=====================================================\n",
    "## 10-2 while迴圈\n",
    "* `while 條件運算：`\n",
    "         `程式區塊`\n",
    "* 巢狀while迴圈  \n",
    "* 強制離開while迴圈指令：break\n",
    "* while迴圈不往下執行，跳至下一次迴圈中：continue"
   ]
  },
  {
   "cell_type": "code",
   "execution_count": 46,
   "metadata": {
    "colab": {
     "base_uri": "https://localhost:8080/",
     "height": 134
    },
    "colab_type": "code",
    "id": "H4UldUoGTxpI",
    "outputId": "381bf96c-f42b-4b22-ee41-d56b45deef01"
   },
   "outputs": [
    {
     "name": "stdout",
     "output_type": "stream",
     "text": [
      "2\n",
      "4\n",
      "6\n",
      "8\n",
      "2\n",
      "3\n",
      "4\n"
     ]
    }
   ],
   "source": [
    "#基本for迴圈\n",
    "a = [1,2,3,4]\n",
    "for i in a:\n",
    "  i += i\n",
    "  print(i)\n",
    "\n",
    "for i in a[1:]:\n",
    "  print(i)"
   ]
  },
  {
   "cell_type": "code",
   "execution_count": null,
   "metadata": {
    "colab": {
     "base_uri": "https://localhost:8080/",
     "height": 34
    },
    "colab_type": "code",
    "id": "S7F1xy1cYWSg",
    "outputId": "05d14166-9898-4043-d580-073c4f4e8444"
   },
   "outputs": [
    {
     "name": "stdout",
     "output_type": "stream",
     "text": [
      "['Tim', 'Tom']\n"
     ]
    }
   ],
   "source": [
    "#基本for迴圈\n",
    "name = [[26,'Tim'],[66,'Peter'],[30,'Tom'],[18,'Tiny']]\n",
    "young_name = []\n",
    "for y, n in name:\n",
    "  if (20<=y<65):\n",
    "    young_name.append(n)\n",
    "print(young_name)"
   ]
  },
  {
   "cell_type": "code",
   "execution_count": null,
   "metadata": {
    "colab": {
     "base_uri": "https://localhost:8080/",
     "height": 51
    },
    "colab_type": "code",
    "id": "Qohvz6-tYYlu",
    "outputId": "9856f7be-f9d9-453d-db21-aeede4ddeb3d"
   },
   "outputs": [
    {
     "name": "stdout",
     "output_type": "stream",
     "text": [
      "0 1 2 3 4 \n",
      "0 2 4 6 8 \n"
     ]
    }
   ],
   "source": [
    "#range\n",
    "for i in range(5):\n",
    "  print(i,end=\" \")\n",
    "print()\n",
    "\n",
    "for i in range(0,10,2):\n",
    "  print(i,end=\" \")\n",
    "print()"
   ]
  },
  {
   "cell_type": "code",
   "execution_count": null,
   "metadata": {
    "colab": {
     "base_uri": "https://localhost:8080/",
     "height": 51
    },
    "colab_type": "code",
    "id": "ywEuo2IqYbPX",
    "outputId": "1336452d-80b6-4bee-b914-de55ce1cefea"
   },
   "outputs": [
    {
     "name": "stdout",
     "output_type": "stream",
     "text": [
      "[0, 1, 2, 3, 4, 5, 6, 7, 8, 9]\n",
      "[0, 1, 2, 3, 4, 5, 6, 7, 8, 9]\n"
     ]
    }
   ],
   "source": [
    "#list\n",
    "save_number = []\n",
    "for i in range(0,10,1):\n",
    "  save_number.append(i)\n",
    "print(save_number)\n",
    "\n",
    "save_number = list(range(0,10,1))\n",
    "print(save_number)"
   ]
  },
  {
   "cell_type": "code",
   "execution_count": null,
   "metadata": {
    "colab": {
     "base_uri": "https://localhost:8080/",
     "height": 221
    },
    "colab_type": "code",
    "id": "p8bgCAW1YdRO",
    "outputId": "a625a891-a12e-4dcf-e8ef-7b1885030ca8"
   },
   "outputs": [
    {
     "name": "stdout",
     "output_type": "stream",
     "text": [
      "(0, 'A')\n",
      "(1, 'B')\n",
      "(2, 'C')\n",
      "(3, 'D')\n",
      "0 A\n",
      "1 B\n",
      "2 C\n",
      "3 D\n",
      "10 A\n",
      "11 B\n",
      "12 C\n",
      "13 D\n"
     ]
    }
   ],
   "source": [
    "#enumerate\n",
    "alphabet = ['A','B','C','D']\n",
    "for alp in enumerate(alphabet):\n",
    "  print(alp)\n",
    "\n",
    "for index, alp in enumerate(alphabet):\n",
    "  print(index, alp)\n",
    "\n",
    "for index, alp in enumerate(alphabet,10):\n",
    "  print(index, alp)"
   ]
  },
  {
   "cell_type": "code",
   "execution_count": 47,
   "metadata": {
    "colab": {
     "base_uri": "https://localhost:8080/",
     "height": 34
    },
    "colab_type": "code",
    "id": "WS73Lm5dYe2f",
    "outputId": "50e199e1-bfea-4c06-ea72-2ab449079210"
   },
   "outputs": [
    {
     "name": "stdout",
     "output_type": "stream",
     "text": [
      "0 1 2 3 4 5 6 7 8 "
     ]
    }
   ],
   "source": [
    "#break\n",
    "for i in range(20):\n",
    "  if (i>8):\n",
    "    break\n",
    "  print(i,end=' ')"
   ]
  },
  {
   "cell_type": "code",
   "execution_count": 49,
   "metadata": {
    "colab": {
     "base_uri": "https://localhost:8080/",
     "height": 34
    },
    "colab_type": "code",
    "id": "m-Zv6n2uYghX",
    "outputId": "e276e807-d471-4483-e8f8-e15296a7cf4d"
   },
   "outputs": [
    {
     "name": "stdout",
     "output_type": "stream",
     "text": [
      "及格有3個人，名字為：['Kint', 'Peter', 'Tim']\n"
     ]
    }
   ],
   "source": [
    "#continue\n",
    "score_name = [['Kint',100],['Peter',60],['Sam', 45],['Tom', 59],['Tim',70]]\n",
    "good = 0\n",
    "save_name = []\n",
    "for name, score in score_name:\n",
    "  if score < 60:\n",
    "    continue \n",
    "  good += 1\n",
    "  save_name.append(name)\n",
    "print(\"及格有%d個人，名字為：%s\" %(good,save_name))"
   ]
  },
  {
   "cell_type": "code",
   "execution_count": null,
   "metadata": {
    "colab": {
     "base_uri": "https://localhost:8080/",
     "height": 34
    },
    "colab_type": "code",
    "id": "DgiVi3UrYh4n",
    "outputId": "61f3a9cc-909f-42b7-913d-bad7bf55c9d0"
   },
   "outputs": [
    {
     "name": "stdout",
     "output_type": "stream",
     "text": [
      "1 2 3 4 5 6 7 8 9 10 "
     ]
    }
   ],
   "source": [
    "#while\n",
    "a = 0\n",
    "while a<10:\n",
    "  a += 1\n",
    "  print(a,end=' ')"
   ]
  },
  {
   "cell_type": "markdown",
   "metadata": {
    "colab_type": "text",
    "id": "ZcvJGNE1oZcD"
   },
   "source": [
    "# 11 元組(Tuple)\n",
    "`tuple=(元素1, ..., 元素n)`\n",
    "\n",
    "* 與列表類似，最大差異是元素值與元素個數不可更動，不可以再給予賦值\n",
    "* 列表與元組資料互換\n",
    "* 使用zip打包多個物件\n",
    "\n",
    "### **優點**\n",
    "* 可以更安全保護資料\n",
    "* 加快程式執行速度，占用較少的系統資源"
   ]
  },
  {
   "cell_type": "code",
   "execution_count": null,
   "metadata": {
    "colab": {
     "base_uri": "https://localhost:8080/",
     "height": 51
    },
    "colab_type": "code",
    "id": "5F9t1W6U7wIo",
    "outputId": "a8dfdaa8-30b0-470c-aaa3-e68ff66f5415"
   },
   "outputs": [
    {
     "name": "stdout",
     "output_type": "stream",
     "text": [
      "<class 'tuple'>\n",
      "('A', 'B', 'C')\n"
     ]
    }
   ],
   "source": [
    "number = (1,2,3,4,5)\n",
    "print(type(number))\n",
    "\n",
    "#快速建立元組的方法\n",
    "alphabet = 'A', 'B', 'C'\n",
    "print(alphabet)"
   ]
  },
  {
   "cell_type": "code",
   "execution_count": null,
   "metadata": {
    "colab": {},
    "colab_type": "code",
    "id": "Nb1D41ukYwrm"
   },
   "outputs": [],
   "source": [
    "#修改元組內容產生錯誤\n",
    "#number[0] = 1 "
   ]
  },
  {
   "cell_type": "code",
   "execution_count": null,
   "metadata": {
    "colab": {
     "base_uri": "https://localhost:8080/",
     "height": 170
    },
    "colab_type": "code",
    "id": "9ONrcCnFZNWH",
    "outputId": "88578e8f-09da-4d80-e0be-8a1da0bc1b13"
   },
   "outputs": [
    {
     "name": "stdout",
     "output_type": "stream",
     "text": [
      "(2, 3, 4)\n",
      "(0, 1, 2)\n",
      "(0, 1, 2, 3, 4, 5, 6, 7)\n",
      "(7, 8, 9, 10)\n",
      "(4, 5, 6, 7, 8, 9, 10)\n",
      "10\n",
      "2\n",
      "(4, 5)\n",
      "8\n"
     ]
    }
   ],
   "source": [
    "#元組切片(與列表相同)\n",
    "number = (0,1,2,3,4,5,6,7,8,9,10)\n",
    "matrix = ((0,1,2),(3,4,5),(6,7,8))\n",
    "\n",
    "print(number[2:5])\n",
    "print(number[:3])\n",
    "print(number[:-3])\n",
    "print(number[7:])\n",
    "print(number[-7:])\n",
    "print(number[-1])\n",
    "\n",
    "print(matrix[0][2])\n",
    "print(matrix[1][1:])\n",
    "print(matrix[-1][-1])"
   ]
  },
  {
   "cell_type": "code",
   "execution_count": null,
   "metadata": {
    "colab": {
     "base_uri": "https://localhost:8080/",
     "height": 51
    },
    "colab_type": "code",
    "id": "j53MTOh3ZPsf",
    "outputId": "92419a3b-eafc-4e51-c4da-52066a63d837"
   },
   "outputs": [
    {
     "name": "stdout",
     "output_type": "stream",
     "text": [
      "[0, 1, 2, 3, 4, 5, 6, 7, 8, 9, 10]\n",
      "(0, 1, 2, 3, 4, 5, 6, 7, 8, 9, 10)\n"
     ]
    }
   ],
   "source": [
    "#列表與元組資料互換\n",
    "number = list(number)\n",
    "print(number)\n",
    "number = tuple(number)\n",
    "print(number)"
   ]
  },
  {
   "cell_type": "code",
   "execution_count": 51,
   "metadata": {
    "colab": {
     "base_uri": "https://localhost:8080/",
     "height": 134
    },
    "colab_type": "code",
    "id": "Wz28tSUNZQ8X",
    "outputId": "c32d38e1-c0fb-403a-9187-345fa2c9a341"
   },
   "outputs": [
    {
     "name": "stdout",
     "output_type": "stream",
     "text": [
      "<class 'zip'>\n",
      "[(20, 'Kint'), (18, 'Peter'), (30, 'Sam'), (42, 'Tom'), (25, 'Tim')]\n",
      "年齡：20, 姓名：Kint\n",
      "年齡：18, 姓名：Peter\n",
      "年齡：30, 姓名：Sam\n",
      "年齡：42, 姓名：Tom\n",
      "年齡：25, 姓名：Tim\n"
     ]
    }
   ],
   "source": [
    "#zip打包多個物件\n",
    "year = (20, 18, 30, 42, 25)\n",
    "name = ('Kint','Peter','Sam','Tom','Tim')\n",
    "zipdata = zip(year, name)\n",
    "print(type(zipdata))\n",
    "print(list(zipdata))\n",
    "\n",
    "for i in zip(year, name):\n",
    "  print(\"年齡：%d, 姓名：%s\" %(i[0],i[1]))"
   ]
  },
  {
   "cell_type": "markdown",
   "metadata": {
    "colab_type": "text",
    "id": "10LMO-OdojbX"
   },
   "source": [
    "# 12 字典(Dict)\n",
    "\n",
    "* 定義字典：\n",
    "  * 字典是一個非序列的資料結構，元素以\"鍵(key):值(value)\"方式配對儲存\n",
    "\n",
    "   `dict={key1:value1, ..., key2:value2}`\n",
    "\n",
    "  * key通常以字串或數字當作是鍵，在一個字典中不可有重複的key出現。value則可以任何python的資料物件\n",
    "\n",
    "* 基本操作\n",
    "  * 列出/讀取\n",
    "  * 增加字典元素\n",
    "  * 更改字典元素內容\n",
    "  * 刪除字典的key與元素\n",
    "  * 字典拷貝\n",
    "  * 驗證key是否存在\n",
    "  * 合併字典\n",
    "  * 列表/元組轉為字典\n"
   ]
  },
  {
   "cell_type": "code",
   "execution_count": 52,
   "metadata": {
    "colab": {
     "base_uri": "https://localhost:8080/",
     "height": 101
    },
    "colab_type": "code",
    "id": "8eUtmkbFzSp7",
    "outputId": "49dc782c-0f9f-4e24-b143-3076381e8267"
   },
   "outputs": [
    {
     "name": "stdout",
     "output_type": "stream",
     "text": [
      "{'西瓜': 15, '香蕉': 20, '水蜜桃': 25}\n",
      "<class 'dict'>\n",
      "水蜜桃一斤 =  25 元\n",
      "水蜜桃一斤 =  25 元\n",
      "蘋果一斤 =  None 元\n"
     ]
    }
   ],
   "source": [
    "fruits = {'西瓜':15, '香蕉':20, '水蜜桃':25}\n",
    "print(fruits)\n",
    "print(type(fruits))\n",
    "print(\"水蜜桃一斤 = \", fruits['水蜜桃'], \"元\")\n",
    "print(\"水蜜桃一斤 = \", fruits.get('水蜜桃'), \"元\")\n",
    "print(\"蘋果一斤 = \", fruits.get('蘋果'), \"元\")"
   ]
  },
  {
   "cell_type": "code",
   "execution_count": 53,
   "metadata": {
    "colab": {
     "base_uri": "https://localhost:8080/",
     "height": 34
    },
    "colab_type": "code",
    "id": "W2UmUAyRzmrN",
    "outputId": "bc9d79c6-155f-4297-9e2b-dc1314e9b0c6"
   },
   "outputs": [
    {
     "name": "stdout",
     "output_type": "stream",
     "text": [
      "{'西瓜': 15, '香蕉': 20, '水蜜桃': 25, '橘子': 18}\n"
     ]
    }
   ],
   "source": [
    "fruits['橘子'] = 18\n",
    "print(fruits)"
   ]
  },
  {
   "cell_type": "code",
   "execution_count": 54,
   "metadata": {
    "colab": {
     "base_uri": "https://localhost:8080/",
     "height": 34
    },
    "colab_type": "code",
    "id": "Q5k1vV9P0RGj",
    "outputId": "8372e803-63f6-49c0-bc5d-d02b75986823"
   },
   "outputs": [
    {
     "name": "stdout",
     "output_type": "stream",
     "text": [
      "新價格水蜜桃一斤 =  12 元\n"
     ]
    }
   ],
   "source": [
    "fruits['水蜜桃'] = 12\n",
    "print(\"新價格水蜜桃一斤 = \", fruits['水蜜桃'], \"元\")"
   ]
  },
  {
   "cell_type": "code",
   "execution_count": 55,
   "metadata": {
    "colab": {
     "base_uri": "https://localhost:8080/",
     "height": 34
    },
    "colab_type": "code",
    "id": "Uz3HWG8W0uIX",
    "outputId": "a524c8bb-1b04-49e0-b713-de2963a9778d"
   },
   "outputs": [
    {
     "name": "stdout",
     "output_type": "stream",
     "text": [
      "{'西瓜': 15, '香蕉': 20, '橘子': 18}\n"
     ]
    }
   ],
   "source": [
    "del fruits['水蜜桃']\n",
    "print(fruits)"
   ]
  },
  {
   "cell_type": "code",
   "execution_count": 57,
   "metadata": {
    "colab": {
     "base_uri": "https://localhost:8080/",
     "height": 34
    },
    "colab_type": "code",
    "id": "sVWFcdzx1GNz",
    "outputId": "3be5fcb8-31a2-4901-ec52-124d73df4321"
   },
   "outputs": [
    {
     "name": "stdout",
     "output_type": "stream",
     "text": [
      "{'香蕉': 20, '橘子': 18}\n"
     ]
    }
   ],
   "source": [
    "fruits.pop('西瓜')\n",
    "print(fruits)"
   ]
  },
  {
   "cell_type": "code",
   "execution_count": 64,
   "metadata": {
    "colab": {
     "base_uri": "https://localhost:8080/",
     "height": 34
    },
    "colab_type": "code",
    "id": "h00Vq9zX1Xhz",
    "outputId": "7f2f5d61-8edc-47c0-e300-8d5f8bc6eaef"
   },
   "outputs": [
    {
     "name": "stdout",
     "output_type": "stream",
     "text": [
      "{}\n"
     ]
    }
   ],
   "source": [
    "fruits.clear()\n",
    "print(fruits)"
   ]
  },
  {
   "cell_type": "code",
   "execution_count": null,
   "metadata": {
    "colab": {
     "base_uri": "https://localhost:8080/",
     "height": 85
    },
    "colab_type": "code",
    "id": "1s4dQErY1vii",
    "outputId": "9a88d07c-421b-4155-875d-cddc1c70e59c"
   },
   "outputs": [
    {
     "name": "stdout",
     "output_type": "stream",
     "text": [
      "True\n",
      "False\n",
      "fruits 位址 =  140298081728120\n",
      "new_fruits 位址 =  140298081727472\n"
     ]
    }
   ],
   "source": [
    "fruits = {'西瓜':15, '香蕉':20, '水蜜桃':25}\n",
    "new_fruits = fruits.copy()\n",
    "print(fruits == new_fruits)\n",
    "print(fruits is new_fruits)\n",
    "print(\"fruits 位址 = \", id(fruits))\n",
    "print(\"new_fruits 位址 = \", id(new_fruits))"
   ]
  },
  {
   "cell_type": "code",
   "execution_count": 68,
   "metadata": {
    "colab": {
     "base_uri": "https://localhost:8080/",
     "height": 67
    },
    "colab_type": "code",
    "id": "EaoRRES92tm6",
    "outputId": "0ff32d06-42ec-4038-b835-fd9b175acafc"
   },
   "outputs": [
    {
     "name": "stdout",
     "output_type": "stream",
     "text": [
      "請輸入key = 蘋果\n",
      "請輸入value = 23\n",
      "新的fruits字典內容 =  {'西瓜': 15, '香蕉': 20, '水蜜桃': 25, '蘋果': '23'}\n"
     ]
    }
   ],
   "source": [
    "fruits = {'西瓜':15, '香蕉':20, '水蜜桃':25}\n",
    "key = input(\"請輸入key = \")\n",
    "value = input(\"請輸入value = \")\n",
    "if key in fruits:\n",
    "  print(\"%s已經在字典了\" %key)\n",
    "else:\n",
    "  fruits[key] = value\n",
    "  print(\"新的fruits字典內容 = \", fruits)"
   ]
  },
  {
   "cell_type": "code",
   "execution_count": 71,
   "metadata": {
    "colab": {
     "base_uri": "https://localhost:8080/",
     "height": 34
    },
    "colab_type": "code",
    "id": "V4yJwWsL3y_a",
    "outputId": "59255410-8fd5-449b-bec3-f6e3e55a2651"
   },
   "outputs": [
    {
     "name": "stdout",
     "output_type": "stream",
     "text": [
      "{1: 'one', 2: 'two', 10: 'ten', 6: 'six'}\n"
     ]
    }
   ],
   "source": [
    "num1 = {1:\"one\", 2:\"two\"}\n",
    "num2 = {10:\"ten\", 6:\"six\"}\n",
    "num1.update(num2)\n",
    "print(num1)"
   ]
  },
  {
   "cell_type": "code",
   "execution_count": 82,
   "metadata": {
    "colab": {
     "base_uri": "https://localhost:8080/",
     "height": 50
    },
    "colab_type": "code",
    "id": "1_eFqkcR4k0R",
    "outputId": "11f3a051-b3f3-4e67-ceb5-03540b0f1e25"
   },
   "outputs": [
    {
     "name": "stdout",
     "output_type": "stream",
     "text": [
      "{'日本': '東京', '泰國': '曼谷', '英國': '倫敦'}\n",
      "{'A': 'a', 'B': 'b', 'C': 'c', 'D': 'd'}\n"
     ]
    }
   ],
   "source": [
    "country_list = [['日本','東京'],['泰國','曼谷'],['英國','倫敦']]\n",
    "country_dict = dict(country_list)\n",
    "print(country_dict)\n",
    "\n",
    "alphabet_tuple = (('A','a'),('B','b'),('C','c'),('D','d'))\n",
    "alphabet_tuple = ('Aa','Bb','Cc','Dd')\n",
    "alphabet_dict = dict(alphabet_tuple)\n",
    "print(alphabet_dict)"
   ]
  },
  {
   "cell_type": "markdown",
   "metadata": {
    "colab_type": "text",
    "id": "-5EqyFljovfL"
   },
   "source": [
    "# 13 函數(Function)\n",
    "* 函數設計\n",
    "* 單個參數與多個參數\n",
    "* 關鍵字參數(參數名稱=值)\n",
    "* 參數預設值\n",
    "* 傳回值\n",
    "* 全域變數與區域變數"
   ]
  },
  {
   "cell_type": "code",
   "execution_count": null,
   "metadata": {
    "colab": {
     "base_uri": "https://localhost:8080/",
     "height": 34
    },
    "colab_type": "code",
    "id": "OXmkdBgL7bJv",
    "outputId": "df2cce04-3484-41c6-f1c4-30be01672fcc"
   },
   "outputs": [
    {
     "name": "stdout",
     "output_type": "stream",
     "text": [
      "這是我第一個python函數\n"
     ]
    }
   ],
   "source": [
    "def fun_1():\n",
    "  print(\"這是我第一個python函數\")\n",
    "\n",
    "fun_1()"
   ]
  },
  {
   "cell_type": "code",
   "execution_count": null,
   "metadata": {
    "colab": {
     "base_uri": "https://localhost:8080/",
     "height": 68
    },
    "colab_type": "code",
    "id": "uXyPq19D7zh4",
    "outputId": "e64c4db5-7ae5-44f6-bf3e-c7583d7204d4"
   },
   "outputs": [
    {
     "name": "stdout",
     "output_type": "stream",
     "text": [
      "10\n",
      "4.0\n",
      "你輸入的值為非運算子\n"
     ]
    }
   ],
   "source": [
    "def calculator(num1, num2, cal):\n",
    "    if cal == \"+\":\n",
    "      print(num1+num2)\n",
    "    elif cal == \"-\":\n",
    "      print(num1-num2)\n",
    "    elif cal == \"*\":\n",
    "      print(num1*num2)\n",
    "    elif cal == \"/\":\n",
    "      print(num1/num2)\n",
    "    else:\n",
    "      print(\"你輸入的值為非運算子\")\n",
    "\n",
    "calculator(8, 2, \"+\")\n",
    "calculator(16, 4, \"/\")\n",
    "calculator(16, 4, 5)"
   ]
  },
  {
   "cell_type": "code",
   "execution_count": 84,
   "metadata": {
    "colab": {
     "base_uri": "https://localhost:8080/",
     "height": 34
    },
    "colab_type": "code",
    "id": "WelrbpqHAQqx",
    "outputId": "86b64dbe-a9af-484f-c582-0f03ca5980b3"
   },
   "outputs": [
    {
     "data": {
      "text/plain": [
       "3"
      ]
     },
     "execution_count": 84,
     "metadata": {
      "tags": []
     },
     "output_type": "execute_result"
    }
   ],
   "source": [
    "def fun_2(val):\n",
    "  val += 1\n",
    "  return val\n",
    "\n",
    "num = fun_2(2)\n",
    "print(num)"
   ]
  },
  {
   "cell_type": "code",
   "execution_count": null,
   "metadata": {
    "colab": {
     "base_uri": "https://localhost:8080/",
     "height": 51
    },
    "colab_type": "code",
    "id": "RDpdTxSVCe9J",
    "outputId": "367f6df1-d61b-4344-aa84-f97a556ffcd0"
   },
   "outputs": [
    {
     "name": "stdout",
     "output_type": "stream",
     "text": [
      "全域變數\n",
      "區域變數\n"
     ]
    }
   ],
   "source": [
    "def var():\n",
    "  msg = '區域變數'\n",
    "  print(msg)\n",
    "\n",
    "msg = '全域變數'\n",
    "print(msg)\n",
    "\n",
    "var()"
   ]
  },
  {
   "cell_type": "markdown",
   "metadata": {
    "colab_type": "text",
    "id": "311AsmUKo2nQ"
   },
   "source": [
    "# 14 類別(Class)"
   ]
  },
  {
   "cell_type": "markdown",
   "metadata": {
    "colab_type": "text",
    "id": "JT-hR8zKEMro"
   },
   "source": [
    "# 15 程式異常處理"
   ]
  },
  {
   "cell_type": "markdown",
   "metadata": {},
   "source": [
    "# 補充：自動補上語法 \n",
    "### 安装 nbextensions\n",
    "`pip install jupyter_contrib_nbextensions`\n",
    "\n",
    "`jupyter contrib nbextension install --user`\n",
    "\n",
    "### 安裝 nbextensions_configurator\n",
    "`pip install jupyter_nbextensions_configurator`\n",
    "\n",
    "`jupyter nbextensions_configurator enable --user`\n",
    "\n",
    "* 如果提示缺少依賴項（套件），就使用pip安裝對應依賴項（套件）即可。\n",
    "* 最後重新啟動jupyter，在彈出的Home裡面中，能看到增加了Nbextensions標籤頁，在這勾選Hinterland即啟動語法自動補全"
   ]
  },
  {
   "cell_type": "code",
   "execution_count": null,
   "metadata": {},
   "outputs": [],
   "source": []
  }
 ],
 "metadata": {
  "colab": {
   "collapsed_sections": [],
   "name": "Python_Basic_Syntax.ipynb",
   "provenance": [],
   "toc_visible": true
  },
  "kernelspec": {
   "display_name": "Python 3",
   "language": "python",
   "name": "python3"
  },
  "language_info": {
   "codemirror_mode": {
    "name": "ipython",
    "version": 3
   },
   "file_extension": ".py",
   "mimetype": "text/x-python",
   "name": "python",
   "nbconvert_exporter": "python",
   "pygments_lexer": "ipython3",
   "version": "3.6.10"
  }
 },
 "nbformat": 4,
 "nbformat_minor": 1
}
